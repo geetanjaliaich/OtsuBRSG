{
 "cells": [
  {
   "cell_type": "code",
   "execution_count": 2,
   "id": "a6308a74",
   "metadata": {},
   "outputs": [],
   "source": [
    "%matplotlib inline\n",
    "import numpy as np\n",
    "from fcmeans import FCM\n",
    "from matplotlib import pyplot as plt"
   ]
  },
  {
   "cell_type": "code",
   "execution_count": 46,
   "id": "f09eb78d",
   "metadata": {},
   "outputs": [],
   "source": [
    "band1 = np.load('KNP_2008_bands/band1.npy')\n",
    "band2 = np.load('KNP_2008_bands/band2.npy')\n",
    "band3 = np.load('KNP_2008_bands/band3.npy')\n",
    "band4 = np.load('KNP_2008_bands/band4.npy')\n",
    "band5 = np.load('KNP_2008_bands/band5.npy')\n",
    "band6 = np.load('KNP_2008_bands/band6.npy')"
   ]
  },
  {
   "cell_type": "code",
   "execution_count": 47,
   "id": "ff9a5472",
   "metadata": {},
   "outputs": [],
   "source": [
    "color_img = np.zeros((band6.shape[0],band6.shape[1],3))\n",
    "color_img[:,:,0] = band6\n",
    "color_img[:,:,1] = band4\n",
    "color_img[:,:,2] = band2"
   ]
  },
  {
   "cell_type": "code",
   "execution_count": 48,
   "id": "08e94ddd",
   "metadata": {},
   "outputs": [],
   "source": [
    "N, M = color_img.astype(int).shape[0],color_img.astype(int).shape[1]"
   ]
  },
  {
   "cell_type": "code",
   "execution_count": 49,
   "id": "e546705a",
   "metadata": {},
   "outputs": [],
   "source": [
    "color_img_p = color_img.astype(int).reshape((N*M, 3))"
   ]
  },
  {
   "cell_type": "code",
   "execution_count": 50,
   "id": "587fbb73",
   "metadata": {},
   "outputs": [],
   "source": [
    "fcm = FCM(n_clusters=3)                           # create a FCM instance with 10 clusters\n",
    "fcm.fit(color_img_p)     "
   ]
  },
  {
   "cell_type": "code",
   "execution_count": 51,
   "id": "d2fe4d05",
   "metadata": {},
   "outputs": [],
   "source": [
    "labeld_X = fcm.predict(color_img_p)                          # get the label of each data point\n",
    "transformed_X = fcm.centers[labeld_X] "
   ]
  },
  {
   "cell_type": "code",
   "execution_count": 52,
   "id": "86a1c697",
   "metadata": {},
   "outputs": [],
   "source": [
    "quatized_array = (\n",
    "    transformed_X\n",
    "    .astype('uint8')                               # convert data points into 8-bit unsigned integers\n",
    "    .reshape((N, M, 3))                            # reshape image\n",
    ")"
   ]
  },
  {
   "cell_type": "code",
   "execution_count": 53,
   "id": "eb313c06",
   "metadata": {},
   "outputs": [],
   "source": [
    "%matplotlib qt5\n",
    "plt.imshow(np.asarray(quatized_array))\n",
    "plt.show()"
   ]
  },
  {
   "cell_type": "code",
   "execution_count": 54,
   "id": "58d446c4",
   "metadata": {},
   "outputs": [],
   "source": [
    "np.save('cluster_3', np.asarray(quatized_array))"
   ]
  },
  {
   "cell_type": "code",
   "execution_count": null,
   "id": "eca582c2",
   "metadata": {},
   "outputs": [],
   "source": []
  }
 ],
 "metadata": {
  "kernelspec": {
   "display_name": "Python 3 (ipykernel)",
   "language": "python",
   "name": "python3"
  },
  "language_info": {
   "codemirror_mode": {
    "name": "ipython",
    "version": 3
   },
   "file_extension": ".py",
   "mimetype": "text/x-python",
   "name": "python",
   "nbconvert_exporter": "python",
   "pygments_lexer": "ipython3",
   "version": "3.7.11"
  }
 },
 "nbformat": 4,
 "nbformat_minor": 5
}
