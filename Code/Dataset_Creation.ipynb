{
 "cells": [
  {
   "cell_type": "code",
   "execution_count": 16,
   "metadata": {},
   "outputs": [],
   "source": [
    "from osgeo import gdal\n",
    "from matplotlib import pyplot as plt\n",
    "from skimage.filters.rank import entropy\n",
    "from skimage.morphology import disk\n",
    "import cv2\n",
    "import numpy as np\n",
    "from skimage.util import img_as_ubyte\n",
    "    \n",
    "%matplotlib qt5"
   ]
  },
  {
   "cell_type": "code",
   "execution_count": 6,
   "metadata": {},
   "outputs": [
    {
     "name": "stdout",
     "output_type": "stream",
     "text": [
      "Collecting PyQt5\n",
      "  Downloading PyQt5-5.15.6-cp36-abi3-win_amd64.whl (6.7 MB)\n",
      "Collecting PyQt5-Qt5>=5.15.2\n",
      "  Downloading PyQt5_Qt5-5.15.2-py3-none-win_amd64.whl (50.1 MB)\n",
      "Collecting PyQt5-sip<13,>=12.8\n",
      "  Downloading PyQt5_sip-12.9.0-cp39-cp39-win_amd64.whl (63 kB)\n",
      "Installing collected packages: PyQt5-sip, PyQt5-Qt5, PyQt5\n",
      "Successfully installed PyQt5-5.15.6 PyQt5-Qt5-5.15.2 PyQt5-sip-12.9.0\n"
     ]
    }
   ],
   "source": []
  },
  {
   "cell_type": "markdown",
   "metadata": {},
   "source": [
    "# Open Data"
   ]
  },
  {
   "cell_type": "markdown",
   "metadata": {},
   "source": [
    "LANDSAT 7 images from 2008 to 2011 "
   ]
  },
  {
   "cell_type": "code",
   "execution_count": 8,
   "metadata": {},
   "outputs": [],
   "source": [
    "year = gdal.Open('KNP2009.tif')\n",
    "\n",
    "band1 = year.GetRasterBand(1)\n",
    "band2 = year.GetRasterBand(2)\n",
    "band3 = year.GetRasterBand(3)\n",
    "band4 = year.GetRasterBand(4)\n",
    "band5 = year.GetRasterBand(5)\n",
    "band6 = year.GetRasterBand(6)\n",
    "\n",
    "band1_array = img_as_ubyte(band1.ReadAsArray())\n",
    "band2_array = img_as_ubyte(band2.ReadAsArray())\n",
    "band3_array = img_as_ubyte(band3.ReadAsArray())\n",
    "band4_array = img_as_ubyte(band4.ReadAsArray())\n",
    "band5_array = img_as_ubyte(band5.ReadAsArray())\n",
    "band6_array = img_as_ubyte(band6.ReadAsArray())"
   ]
  },
  {
   "cell_type": "markdown",
   "metadata": {},
   "source": [
    "LANDSAT 8 images from 2013 to 2018"
   ]
  },
  {
   "cell_type": "code",
   "execution_count": 624,
   "metadata": {},
   "outputs": [],
   "source": [
    "year = gdal.Open('KNP2018.tif')\n",
    "\n",
    "band1 = year.GetRasterBand(6)\n",
    "band2 = year.GetRasterBand(5)\n",
    "band3 = year.GetRasterBand(4)\n",
    "band4 = year.GetRasterBand(3)\n",
    "band5 = year.GetRasterBand(2)\n",
    "band6 = year.GetRasterBand(1)\n",
    "\n",
    "band1_array = img_as_ubyte(band1.ReadAsArray())\n",
    "band2_array = img_as_ubyte(band2.ReadAsArray())\n",
    "band3_array = img_as_ubyte(band3.ReadAsArray())\n",
    "band4_array = img_as_ubyte(band4.ReadAsArray())\n",
    "band5_array = img_as_ubyte(band5.ReadAsArray())\n",
    "band6_array = img_as_ubyte(band6.ReadAsArray())"
   ]
  },
  {
   "cell_type": "markdown",
   "metadata": {},
   "source": [
    "# River Extraction"
   ]
  },
  {
   "cell_type": "code",
   "execution_count": 17,
   "metadata": {},
   "outputs": [],
   "source": [
    "from numpy import save,load\n",
    "from skimage.morphology import area_opening,area_closing,remove_small_holes,erosion,dilation,disk,convex_hull_object,square"
   ]
  },
  {
   "cell_type": "code",
   "execution_count": 18,
   "metadata": {},
   "outputs": [],
   "source": [
    "image = np.zeros((band1_array.shape[0],band1_array.shape[1],3))\n",
    "image[:,:,0] = band6_array\n",
    "image[:,:,1] = band5_array\n",
    "image[:,:,2] = band4_array"
   ]
  },
  {
   "cell_type": "code",
   "execution_count": 19,
   "metadata": {},
   "outputs": [],
   "source": [
    "lo = (band2_array/255) + 2.5*(band3_array/255)-1.5*(band5_array/255 + band6_array/255)-0.25*(band6_array/255)"
   ]
  },
  {
   "cell_type": "code",
   "execution_count": 20,
   "metadata": {},
   "outputs": [],
   "source": [
    "b_lo = (lo>0.170)*1"
   ]
  },
  {
   "cell_type": "code",
   "execution_count": 21,
   "metadata": {},
   "outputs": [],
   "source": [
    "selem = disk(15)\n",
    "water = area_opening(area_closing(b_lo))"
   ]
  },
  {
   "cell_type": "code",
   "execution_count": 22,
   "metadata": {},
   "outputs": [],
   "source": [
    "#mask1 =convex_hull_object(water, connectivity=2)"
   ]
  },
  {
   "cell_type": "code",
   "execution_count": 23,
   "metadata": {},
   "outputs": [],
   "source": [
    "plt.imshow(water, cmap = plt.cm.gray)\n",
    "plt.show()"
   ]
  },
  {
   "cell_type": "code",
   "execution_count": 24,
   "metadata": {},
   "outputs": [],
   "source": [
    "edge_water = cv2.Canny((water*255).astype(np.uint8), 50, 150)"
   ]
  },
  {
   "cell_type": "code",
   "execution_count": 25,
   "metadata": {},
   "outputs": [],
   "source": [
    "contours,hierarchy = cv2.findContours(edge_water,cv2.RETR_EXTERNAL, cv2.CHAIN_APPROX_NONE)"
   ]
  },
  {
   "cell_type": "code",
   "execution_count": 26,
   "metadata": {},
   "outputs": [],
   "source": [
    "k = cv2.drawContours(image.astype(int), contours, -1, (255, 0, 0), 1)"
   ]
  },
  {
   "cell_type": "code",
   "execution_count": 27,
   "metadata": {},
   "outputs": [],
   "source": [
    "plt.imshow(k.astype(int), cmap = plt.cm.gray)\n",
    "plt.show()"
   ]
  },
  {
   "cell_type": "code",
   "execution_count": 28,
   "metadata": {},
   "outputs": [],
   "source": [
    "save('river_mask_2018',water)"
   ]
  },
  {
   "cell_type": "code",
   "execution_count": 4,
   "metadata": {},
   "outputs": [
    {
     "ename": "FileNotFoundError",
     "evalue": "[Errno 2] No such file or directory: 'river_mask_2018.npy'",
     "output_type": "error",
     "traceback": [
      "\u001b[1;31m---------------------------------------------------------------------------\u001b[0m",
      "\u001b[1;31mFileNotFoundError\u001b[0m                         Traceback (most recent call last)",
      "\u001b[1;32m<ipython-input-4-a1d21bb34db4>\u001b[0m in \u001b[0;36m<module>\u001b[1;34m\u001b[0m\n\u001b[1;32m----> 1\u001b[1;33m \u001b[0ma\u001b[0m \u001b[1;33m=\u001b[0m\u001b[0mload\u001b[0m\u001b[1;33m(\u001b[0m\u001b[1;34m'river_mask_2018.npy'\u001b[0m\u001b[1;33m)\u001b[0m\u001b[1;33m\u001b[0m\u001b[1;33m\u001b[0m\u001b[0m\n\u001b[0m",
      "\u001b[1;32m~\\anaconda3\\envs\\geo_py32\\lib\\site-packages\\numpy\\lib\\npyio.py\u001b[0m in \u001b[0;36mload\u001b[1;34m(file, mmap_mode, allow_pickle, fix_imports, encoding)\u001b[0m\n\u001b[0;32m    414\u001b[0m             \u001b[0mown_fid\u001b[0m \u001b[1;33m=\u001b[0m \u001b[1;32mFalse\u001b[0m\u001b[1;33m\u001b[0m\u001b[1;33m\u001b[0m\u001b[0m\n\u001b[0;32m    415\u001b[0m         \u001b[1;32melse\u001b[0m\u001b[1;33m:\u001b[0m\u001b[1;33m\u001b[0m\u001b[1;33m\u001b[0m\u001b[0m\n\u001b[1;32m--> 416\u001b[1;33m             \u001b[0mfid\u001b[0m \u001b[1;33m=\u001b[0m \u001b[0mstack\u001b[0m\u001b[1;33m.\u001b[0m\u001b[0menter_context\u001b[0m\u001b[1;33m(\u001b[0m\u001b[0mopen\u001b[0m\u001b[1;33m(\u001b[0m\u001b[0mos_fspath\u001b[0m\u001b[1;33m(\u001b[0m\u001b[0mfile\u001b[0m\u001b[1;33m)\u001b[0m\u001b[1;33m,\u001b[0m \u001b[1;34m\"rb\"\u001b[0m\u001b[1;33m)\u001b[0m\u001b[1;33m)\u001b[0m\u001b[1;33m\u001b[0m\u001b[1;33m\u001b[0m\u001b[0m\n\u001b[0m\u001b[0;32m    417\u001b[0m             \u001b[0mown_fid\u001b[0m \u001b[1;33m=\u001b[0m \u001b[1;32mTrue\u001b[0m\u001b[1;33m\u001b[0m\u001b[1;33m\u001b[0m\u001b[0m\n\u001b[0;32m    418\u001b[0m \u001b[1;33m\u001b[0m\u001b[0m\n",
      "\u001b[1;31mFileNotFoundError\u001b[0m: [Errno 2] No such file or directory: 'river_mask_2018.npy'"
     ]
    }
   ],
   "source": [
    "a =load('river_mask_2018.npy')"
   ]
  },
  {
   "cell_type": "code",
   "execution_count": 339,
   "metadata": {},
   "outputs": [],
   "source": [
    "plt.imshow(a, cmap = 'gray')\n",
    "plt.show()"
   ]
  },
  {
   "cell_type": "markdown",
   "metadata": {},
   "source": [
    "# Sand Bed Extraction"
   ]
  },
  {
   "cell_type": "code",
   "execution_count": 3,
   "metadata": {},
   "outputs": [],
   "source": [
    "from skimage.exposure import adjust_gamma, adjust_sigmoid, adjust_log\n",
    "from skimage.color import rgb2gray\n",
    "from skimage.filters import threshold_otsu"
   ]
  },
  {
   "cell_type": "code",
   "execution_count": 625,
   "metadata": {},
   "outputs": [],
   "source": [
    "image = np.zeros((band1_array.shape[0],band1_array.shape[1],3))\n",
    "image[:,:,0] = band1_array.astype('int')\n",
    "image[:,:,1] = band3_array.astype('int')\n",
    "image[:,:,2] = band6_array.astype('int')"
   ]
  },
  {
   "cell_type": "code",
   "execution_count": 626,
   "metadata": {},
   "outputs": [],
   "source": [
    "# Contrast Enhancement using log correction\n",
    "gray = rgb2gray(image.astype(int))\n",
    "enh_img_log = (100000000*adjust_log(gray,100)).astype('int')"
   ]
  },
  {
   "cell_type": "code",
   "execution_count": 627,
   "metadata": {},
   "outputs": [
    {
     "name": "stdout",
     "output_type": "stream",
     "text": [
      "251\n"
     ]
    }
   ],
   "source": [
    "th = threshold_otsu(enh_img_log)\n",
    "print(th)"
   ]
  },
  {
   "cell_type": "code",
   "execution_count": 628,
   "metadata": {},
   "outputs": [],
   "source": [
    "b_sand = dilation(erosion((enh_img_log>th)*1, disk(1)),disk(1))"
   ]
  },
  {
   "cell_type": "code",
   "execution_count": 629,
   "metadata": {},
   "outputs": [],
   "source": [
    "plt.imshow(b_sand, cmap = 'gray')\n",
    "plt.show()"
   ]
  },
  {
   "cell_type": "code",
   "execution_count": 630,
   "metadata": {},
   "outputs": [],
   "source": [
    "plt.hist(enh_img_log.ravel(), bins = 256)\n",
    "plt.title('Kaziranga Image 2008')\n",
    "plt.show()"
   ]
  },
  {
   "cell_type": "code",
   "execution_count": 631,
   "metadata": {},
   "outputs": [],
   "source": [
    "edge_sand = cv2.Canny((b_sand*255).astype(np.uint8), 50, 150)"
   ]
  },
  {
   "cell_type": "code",
   "execution_count": 632,
   "metadata": {},
   "outputs": [],
   "source": [
    "contours,hierarchy = cv2.findContours(edge_sand,cv2.RETR_EXTERNAL, cv2.CHAIN_APPROX_NONE)"
   ]
  },
  {
   "cell_type": "code",
   "execution_count": 633,
   "metadata": {},
   "outputs": [],
   "source": [
    "k_s = cv2.drawContours(image.astype(int), contours, -1, (255, 0, 0), 1)"
   ]
  },
  {
   "cell_type": "code",
   "execution_count": 634,
   "metadata": {},
   "outputs": [],
   "source": [
    "plt.imshow(k_s.astype(int), cmap = plt.cm.gray)\n",
    "plt.show()"
   ]
  },
  {
   "cell_type": "code",
   "execution_count": 635,
   "metadata": {},
   "outputs": [],
   "source": [
    "save('sand_mask_2018',b_sand)"
   ]
  },
  {
   "cell_type": "code",
   "execution_count": 623,
   "metadata": {},
   "outputs": [],
   "source": [
    "a =load('sand_mask_2017.npy')\n",
    "plt.imshow(a, cmap = 'gray')\n",
    "plt.show()"
   ]
  },
  {
   "cell_type": "markdown",
   "metadata": {},
   "source": [
    "# Combining Two Masks"
   ]
  },
  {
   "cell_type": "code",
   "execution_count": 5,
   "metadata": {},
   "outputs": [],
   "source": [
    "import os\n",
    "from skimage.morphology import remove_small_objects, remove_small_holes"
   ]
  },
  {
   "cell_type": "code",
   "execution_count": 6,
   "metadata": {},
   "outputs": [],
   "source": [
    "def load_images_from_folder(folder1):\n",
    "    images = []\n",
    "    for filename1 in os.listdir(folder1):\n",
    "        img = load(os.path.join(folder1,filename1))\n",
    "        if img is not None:\n",
    "            images.append(img)\n",
    "    return images\n",
    "\n",
    "path_sand=\"D:\\\\Kaziranga\\\\sand\"\n",
    "sand= load_images_from_folder(path_sand)\n",
    "path_river=\"D:\\\\Kaziranga\\\\river\"\n",
    "river= load_images_from_folder(path_river)"
   ]
  },
  {
   "cell_type": "code",
   "execution_count": 7,
   "metadata": {},
   "outputs": [],
   "source": [
    "def combineMask(river_mask,sand_mask):\n",
    "    images = []\n",
    "    for i in range(0,10):\n",
    "        coastal = river_mask[i]|sand_mask[i]\n",
    "        images.append(1-coastal)\n",
    "    return images"
   ]
  },
  {
   "cell_type": "code",
   "execution_count": 8,
   "metadata": {},
   "outputs": [],
   "source": [
    "forest = combineMask(river,sand)"
   ]
  },
  {
   "cell_type": "code",
   "execution_count": 9,
   "metadata": {},
   "outputs": [],
   "source": [
    "def visualizeForest(forest):\n",
    "    plt.figure(1)\n",
    "    plt.imshow(forest[0], cmap = 'gray')\n",
    "    plt.figure(2)\n",
    "    plt.imshow(forest[1], cmap = 'gray')\n",
    "    plt.figure(3)\n",
    "    plt.imshow(forest[2], cmap = 'gray')\n",
    "    plt.figure(4)\n",
    "    plt.imshow(forest[3], cmap = 'gray')\n",
    "    plt.figure(5)\n",
    "    plt.imshow(forest[4], cmap = 'gray')\n",
    "    plt.figure(6)\n",
    "    plt.imshow(forest[5], cmap = 'gray')\n",
    "    plt.figure(7)\n",
    "    plt.imshow(forest[6], cmap = 'gray')\n",
    "    plt.figure(8)\n",
    "    plt.imshow(forest[7], cmap = 'gray')\n",
    "    plt.figure(9)\n",
    "    plt.imshow(forest[8], cmap = 'gray')\n",
    "    plt.figure(10)\n",
    "    plt.imshow(forest[9], cmap = 'gray')\n",
    "    \n",
    "    plt.show()\n"
   ]
  },
  {
   "cell_type": "code",
   "execution_count": 10,
   "metadata": {},
   "outputs": [],
   "source": [
    "visualizeForest(forest)"
   ]
  },
  {
   "cell_type": "code",
   "execution_count": 11,
   "metadata": {},
   "outputs": [
    {
     "name": "stderr",
     "output_type": "stream",
     "text": [
      "C:\\Users\\Asus\\anaconda3\\envs\\geo_py32\\lib\\site-packages\\ipykernel_launcher.py:6: UserWarning: Only one label was provided to `remove_small_objects`. Did you mean to use a boolean array?\n",
      "  \n",
      "C:\\Users\\Asus\\anaconda3\\envs\\geo_py32\\lib\\site-packages\\ipykernel_launcher.py:6: UserWarning: Any labeled images will be returned as a boolean array. Did you mean to use a boolean array?\n",
      "  \n"
     ]
    },
    {
     "name": "stdout",
     "output_type": "stream",
     "text": [
      "Processed image----> 1\n",
      "Processed image----> 2\n",
      "Processed image----> 3\n",
      "Processed image----> 4\n",
      "Processed image----> 5\n",
      "Processed image----> 6\n",
      "Processed image----> 7\n",
      "Processed image----> 8\n",
      "Processed image----> 9\n",
      "Processed image----> 10\n"
     ]
    }
   ],
   "source": [
    "improved = []\n",
    "c = 0\n",
    "for i in forest:\n",
    "       \n",
    "    m_im = area_opening(i)\n",
    "    mask =remove_small_holes(remove_small_objects(m_im,4000),4000)\n",
    "    c = c+1\n",
    "    print('Processed image---->', c)\n",
    "    improved.append(mask)\n",
    "    \n",
    "    "
   ]
  },
  {
   "cell_type": "code",
   "execution_count": 12,
   "metadata": {},
   "outputs": [],
   "source": [
    "visualizeForest(improved)"
   ]
  },
  {
   "cell_type": "code",
   "execution_count": 53,
   "metadata": {},
   "outputs": [
    {
     "data": {
      "text/plain": [
       "10"
      ]
     },
     "execution_count": 53,
     "metadata": {},
     "output_type": "execute_result"
    }
   ],
   "source": [
    "len(improved)"
   ]
  },
  {
   "cell_type": "code",
   "execution_count": 33,
   "metadata": {},
   "outputs": [],
   "source": [
    "year = gdal.Open('KNP2018.tif')\n",
    "\n",
    "band1 = year.GetRasterBand(6)\n",
    "band2 = year.GetRasterBand(5)\n",
    "band3 = year.GetRasterBand(4)\n",
    "band4 = year.GetRasterBand(3)\n",
    "band5 = year.GetRasterBand(2)\n",
    "band6 = year.GetRasterBand(1)\n",
    "\n",
    "band1_array = img_as_ubyte(band1.ReadAsArray())\n",
    "band2_array = img_as_ubyte(band2.ReadAsArray())\n",
    "band3_array = img_as_ubyte(band3.ReadAsArray())\n",
    "band4_array = img_as_ubyte(band4.ReadAsArray())\n",
    "band5_array = img_as_ubyte(band5.ReadAsArray())\n",
    "band6_array = img_as_ubyte(band6.ReadAsArray())\n",
    "\n",
    "image = np.zeros((band1_array.shape[0],band1_array.shape[1],3))\n",
    "image[:,:,0] = band1_array.astype('int')\n",
    "image[:,:,1] = band3_array.astype('int')\n",
    "image[:,:,2] = band6_array.astype('int')\n"
   ]
  },
  {
   "cell_type": "code",
   "execution_count": 20,
   "metadata": {},
   "outputs": [],
   "source": [
    "edge = cv2.Canny((improved[0]*255).astype(np.uint8), 50, 150)\n",
    "contours,hierarchy = cv2.findContours(edge,cv2.RETR_EXTERNAL, cv2.CHAIN_APPROX_NONE)\n",
    "k1 = cv2.drawContours(image.astype(int), contours, -1, (255, 0, 0), 1)\n",
    "\n",
    "plt.imshow(edge.astype(int), cmap = plt.cm.gray)\n",
    "plt.show()"
   ]
  },
  {
   "cell_type": "code",
   "execution_count": 21,
   "metadata": {},
   "outputs": [],
   "source": [
    "def Find_Kaziranga_Edge(edge_image):\n",
    "    for col in range(edge_image.shape[1]-1,-1,-1):\n",
    "        state = 1\n",
    "        for row in range(edge_image.shape[0]-1,-1,-1):\n",
    "            #print(edge_image[row][col])\n",
    "            if edge_image[row][col] == 255:\n",
    "                state = 0\n",
    "            edge_image[row][col] = state\n",
    "    return edge_image\n",
    "        "
   ]
  },
  {
   "cell_type": "code",
   "execution_count": 22,
   "metadata": {},
   "outputs": [],
   "source": [
    "edge_2008 = cv2.Canny((improved[0]*255).astype(np.uint8), 50, 150)\n",
    "new_edge2008 = Find_Kaziranga_Edge(edge_2008*1)\n",
    "\n",
    "edge_2018 = cv2.Canny((improved[9]*255).astype(np.uint8), 50, 150)\n",
    "new_edge2018 = Find_Kaziranga_Edge(edge_2018*1)"
   ]
  },
  {
   "cell_type": "code",
   "execution_count": 29,
   "metadata": {},
   "outputs": [],
   "source": [
    "plt.imshow(new_edge2018.astype('int'))\n",
    "plt.show()"
   ]
  },
  {
   "cell_type": "code",
   "execution_count": 28,
   "metadata": {},
   "outputs": [],
   "source": [
    "edge_2008 = cv2.Canny((new_edge2008*255).astype(np.uint8), 50, 150)\n",
    "contours,hierarchy = cv2.findContours(edge_2008,cv2.RETR_EXTERNAL, cv2.CHAIN_APPROX_NONE)\n",
    "k3 = cv2.drawContours(image.astype(int), contours, -1, (255, 0, 0), 1)\n",
    "\n",
    "edge_2018 = cv2.Canny((new_edge2018*255).astype(np.uint8), 50, 150)\n",
    "contours,hierarchy = cv2.findContours(edge_2018,cv2.RETR_EXTERNAL, cv2.CHAIN_APPROX_NONE)\n",
    "k4 = cv2.drawContours(k3.astype(int), contours, -1, (255, 255, 0), 1)\n",
    "\n",
    "plt.imshow(k4.astype(int), cmap = plt.cm.gray)\n",
    "plt.show()"
   ]
  },
  {
   "cell_type": "markdown",
   "metadata": {},
   "source": [
    "# Storing Mask of Land"
   ]
  },
  {
   "cell_type": "markdown",
   "metadata": {},
   "source": [
    "Step 1 : Aquiring the mask and storing it in an array"
   ]
  },
  {
   "cell_type": "code",
   "execution_count": 36,
   "metadata": {},
   "outputs": [],
   "source": [
    "from skimage.morphology import flood_fill"
   ]
  },
  {
   "cell_type": "code",
   "execution_count": 89,
   "metadata": {},
   "outputs": [],
   "source": [
    "def findArray(image):\n",
    "    \n",
    "    img_boundary_steps = np.array([np.sum(image[:,col]) for col in range(0, image.shape[1])])\n",
    "    return img_boundary_steps"
   ]
  },
  {
   "cell_type": "code",
   "execution_count": 90,
   "metadata": {},
   "outputs": [],
   "source": [
    "edge_2018 = cv2.Canny((improved[9]*255).astype(np.uint8), 50, 150)\n",
    "new_edge2018 = Find_Kaziranga_Edge(edge_2018*1)\n",
    "array_boundary = findArray(new_edge2018)"
   ]
  },
  {
   "cell_type": "code",
   "execution_count": 91,
   "metadata": {},
   "outputs": [],
   "source": [
    "plt.imshow(new_edge2018)\n",
    "plt.show()"
   ]
  },
  {
   "cell_type": "code",
   "execution_count": null,
   "metadata": {},
   "outputs": [],
   "source": []
  },
  {
   "cell_type": "code",
   "execution_count": null,
   "metadata": {},
   "outputs": [],
   "source": []
  },
  {
   "cell_type": "code",
   "execution_count": null,
   "metadata": {},
   "outputs": [],
   "source": []
  },
  {
   "cell_type": "code",
   "execution_count": null,
   "metadata": {},
   "outputs": [],
   "source": []
  },
  {
   "cell_type": "code",
   "execution_count": null,
   "metadata": {},
   "outputs": [],
   "source": []
  }
 ],
 "metadata": {
  "kernelspec": {
   "display_name": "Python 3",
   "language": "python",
   "name": "python3"
  },
  "language_info": {
   "codemirror_mode": {
    "name": "ipython",
    "version": 3
   },
   "file_extension": ".py",
   "mimetype": "text/x-python",
   "name": "python",
   "nbconvert_exporter": "python",
   "pygments_lexer": "ipython3",
   "version": "3.7.6"
  }
 },
 "nbformat": 4,
 "nbformat_minor": 4
}
