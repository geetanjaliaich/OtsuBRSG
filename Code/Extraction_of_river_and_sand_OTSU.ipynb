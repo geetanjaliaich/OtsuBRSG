{
 "cells": [
  {
   "cell_type": "code",
   "execution_count": 1,
   "metadata": {},
   "outputs": [],
   "source": [
    "import gdal\n",
    "from matplotlib import pyplot as plt\n",
    "import rasterio\n",
    "from skimage.filters.rank import entropy\n",
    "from skimage.morphology import disk\n",
    "import cv2\n",
    "import numpy as np\n",
    "from skimage.util import img_as_ubyte"
   ]
  },
  {
   "cell_type": "code",
   "execution_count": 2,
   "metadata": {},
   "outputs": [],
   "source": [
    "from skimage.exposure import adjust_gamma, adjust_sigmoid, adjust_log\n",
    "from skimage.color import rgb2gray\n",
    "from skimage.filters import threshold_otsu\n",
    "from numpy import save,load\n",
    "from skimage.morphology import area_opening,area_closing,remove_small_holes,remove_small_objects,erosion,dilation,disk,convex_hull_object,square"
   ]
  },
  {
   "cell_type": "markdown",
   "metadata": {},
   "source": [
    "# import dataset"
   ]
  },
  {
   "cell_type": "code",
   "execution_count": 3,
   "metadata": {},
   "outputs": [],
   "source": [
    "# FOR LANDSAT 7\n",
    "year = gdal.Open('KNP2008.tif')\n",
    "%matplotlib qt5\n",
    "band1 = year.GetRasterBand(1)\n",
    "band2 = year.GetRasterBand(2)\n",
    "band3 = year.GetRasterBand(3)\n",
    "band4 = year.GetRasterBand(4)\n",
    "band5 = year.GetRasterBand(5)\n",
    "band6 = year.GetRasterBand(6)\n",
    "\n",
    "band1_array = img_as_ubyte(band1.ReadAsArray())\n",
    "band2_array = img_as_ubyte(band2.ReadAsArray())\n",
    "band3_array = img_as_ubyte(band3.ReadAsArray())\n",
    "band4_array = img_as_ubyte(band4.ReadAsArray())\n",
    "band5_array = img_as_ubyte(band5.ReadAsArray())\n",
    "band6_array = img_as_ubyte(band6.ReadAsArray())\n",
    "\n",
    "year_name = '2011'"
   ]
  },
  {
   "cell_type": "code",
   "execution_count": 16,
   "metadata": {},
   "outputs": [],
   "source": [
    "# FOR LANDSAT 8\n",
    "year = gdal.Open('KNP2018.tif')\n",
    "\n",
    "band1 = year.GetRasterBand(6)\n",
    "band2 = year.GetRasterBand(5)\n",
    "band3 = year.GetRasterBand(4)\n",
    "band4 = year.GetRasterBand(3)\n",
    "band5 = year.GetRasterBand(2)\n",
    "band6 = year.GetRasterBand(1)\n",
    "\n",
    "band1_array = img_as_ubyte(band1.ReadAsArray())\n",
    "band2_array = img_as_ubyte(band2.ReadAsArray())\n",
    "band3_array = img_as_ubyte(band3.ReadAsArray())\n",
    "band4_array = img_as_ubyte(band4.ReadAsArray())\n",
    "band5_array = img_as_ubyte(band5.ReadAsArray())\n",
    "band6_array = img_as_ubyte(band6.ReadAsArray())\n",
    "\n",
    "year_name = '2016'"
   ]
  },
  {
   "cell_type": "markdown",
   "metadata": {},
   "source": [
    "# Sand Bed Extraction - Otsu Based"
   ]
  },
  {
   "cell_type": "code",
   "execution_count": 271,
   "metadata": {},
   "outputs": [],
   "source": [
    "image = np.zeros((band1_array.shape[0],band1_array.shape[1],3))\n",
    "image[:,:,0] = band1_array.astype('int')\n",
    "image[:,:,1] = band3_array.astype('int')\n",
    "image[:,:,2] = band6_array.astype('int')\n",
    "gray = (0.2125*image[:,:,0] + 0.7154*image[:,:,1] + 0.0721*image[:,:,2]).astype('int')"
   ]
  },
  {
   "cell_type": "code",
   "execution_count": 272,
   "metadata": {},
   "outputs": [],
   "source": [
    "plt.imshow(gray, cmap='gray')\n",
    "plt.show()"
   ]
  },
  {
   "cell_type": "code",
   "execution_count": 273,
   "metadata": {},
   "outputs": [
    {
     "name": "stdout",
     "output_type": "stream",
     "text": [
      "36\n"
     ]
    }
   ],
   "source": [
    "th = threshold_otsu(gray)\n",
    "print(th)"
   ]
  },
  {
   "cell_type": "code",
   "execution_count": 274,
   "metadata": {},
   "outputs": [],
   "source": [
    "b_sand = dilation(erosion((gray>th)*1, disk(1)),disk(1))\n",
    "b_sand =remove_small_holes(remove_small_objects(b_sand>0,150),150)"
   ]
  },
  {
   "cell_type": "code",
   "execution_count": 275,
   "metadata": {},
   "outputs": [],
   "source": [
    "%matplotlib qt5\n",
    "plt.imshow(b_sand, cmap = 'gray')\n",
    "plt.suptitle('Sand mask (2008)')\n",
    "plt.axis('off')\n",
    "plt.show()"
   ]
  },
  {
   "cell_type": "code",
   "execution_count": 276,
   "metadata": {},
   "outputs": [],
   "source": [
    "v_image = np.zeros((band1_array.shape[0],band1_array.shape[1],3))\n",
    "v_image[:,:,0] = band6_array.astype('int')\n",
    "v_image[:,:,1] = band4_array.astype('int')\n",
    "v_image[:,:,2] = band2_array.astype('int')"
   ]
  },
  {
   "cell_type": "code",
   "execution_count": 277,
   "metadata": {},
   "outputs": [],
   "source": [
    "edge_sand = cv2.Canny((b_sand*255).astype(np.uint8), 50, 150)"
   ]
  },
  {
   "cell_type": "code",
   "execution_count": 278,
   "metadata": {},
   "outputs": [],
   "source": [
    "contours,hierarchy = cv2.findContours(edge_sand,cv2.RETR_EXTERNAL, cv2.CHAIN_APPROX_NONE)"
   ]
  },
  {
   "cell_type": "code",
   "execution_count": 279,
   "metadata": {},
   "outputs": [],
   "source": [
    "k = cv2.drawContours(v_image.astype(int), contours, -1, (255, 0, 0), 1)"
   ]
  },
  {
   "cell_type": "code",
   "execution_count": 280,
   "metadata": {},
   "outputs": [],
   "source": [
    "plt.imshow(k.astype(int), cmap = plt.cm.gray)\n",
    "plt.show()"
   ]
  },
  {
   "cell_type": "markdown",
   "metadata": {},
   "source": [
    "#### Graphs and Histogram "
   ]
  },
  {
   "cell_type": "code",
   "execution_count": 295,
   "metadata": {},
   "outputs": [],
   "source": [
    "plt.hist(gray.ravel(), bins = range(256))\n",
    "plt.title('Kaziranga Image 2008')\n",
    "plt.xlim(0,255)\n",
    "plt.axvline(th, color='r', linestyle='dashed', linewidth=1)\n",
    "plt.show()"
   ]
  },
  {
   "cell_type": "markdown",
   "metadata": {},
   "source": [
    "### Trial"
   ]
  },
  {
   "cell_type": "code",
   "execution_count": 634,
   "metadata": {},
   "outputs": [],
   "source": [
    "image = np.zeros((band1_array.shape[0],band1_array.shape[1],3))\n",
    "image[:,:,0] = band1_array.astype('int')\n",
    "image[:,:,1] = band3_array.astype('int')\n",
    "image[:,:,2] = band6_array.astype('int')"
   ]
  },
  {
   "cell_type": "code",
   "execution_count": 635,
   "metadata": {},
   "outputs": [],
   "source": [
    "gray = (0.2125*image[:,:,0] + 0.7154*image[:,:,1] + 0.0721*image[:,:,2]).astype('int')"
   ]
  },
  {
   "cell_type": "code",
   "execution_count": 298,
   "metadata": {},
   "outputs": [],
   "source": [
    "enh_img_log = (adjust_log(gray,1)).astype('int')"
   ]
  },
  {
   "cell_type": "code",
   "execution_count": 299,
   "metadata": {},
   "outputs": [],
   "source": [
    "plt.imshow(enh_img_log, cmap = plt.cm.jet)\n",
    "plt.show()"
   ]
  },
  {
   "cell_type": "code",
   "execution_count": 550,
   "metadata": {},
   "outputs": [
    {
     "name": "stdout",
     "output_type": "stream",
     "text": [
      "55\n",
      "233\n"
     ]
    }
   ],
   "source": [
    "th = threshold_otsu(gray)\n",
    "print(th)\n",
    "max_val = np.max(enh_img_log.ravel())\n",
    "print(max_val)"
   ]
  },
  {
   "cell_type": "code",
   "execution_count": 551,
   "metadata": {},
   "outputs": [],
   "source": [
    "plt.hist(gray.ravel(), bins = range(256))\n",
    "plt.title('Kaziranga Image '+year_name)\n",
    "plt.axvline(th, color='r', linestyle='dashed', linewidth=2)\n",
    "plt.show()"
   ]
  },
  {
   "cell_type": "code",
   "execution_count": 365,
   "metadata": {},
   "outputs": [],
   "source": [
    "b_sand = dilation(erosion((gray>th)*1, disk(1)),disk(1))"
   ]
  },
  {
   "cell_type": "code",
   "execution_count": 402,
   "metadata": {},
   "outputs": [],
   "source": [
    "%matplotlib qt5\n",
    "plt.imshow(b_sand, cmap = 'gray')\n",
    "plt.suptitle('Sand mask - '+year_name)\n",
    "plt.axis('off')\n",
    "plt.show()"
   ]
  },
  {
   "cell_type": "markdown",
   "metadata": {},
   "source": [
    "# Histograms of all bands"
   ]
  },
  {
   "cell_type": "code",
   "execution_count": 300,
   "metadata": {},
   "outputs": [],
   "source": [
    "plt.hist(band1_array.ravel(), bins = range(256))\n",
    "plt.title('Band 1 (Blue) - '+year_name)\n",
    "plt.xlabel('I(pi) --------->')\n",
    "plt.show()"
   ]
  },
  {
   "cell_type": "code",
   "execution_count": 301,
   "metadata": {},
   "outputs": [],
   "source": [
    "fig,a =  plt.subplots(2,3)\n",
    "a[0][0].set_title('Band 1 - Blue')\n",
    "a[0][0].hist(band1_array.ravel(), bins = range(256))\n",
    "a[0][0].set_xlabel('Intensity of Pixels ----->')\n",
    "a[0][0].set_ylabel('Count(n) ----->')\n",
    "a[0][0].set_xlim([0,255])\n",
    "\n",
    "a[0][1].set_title('Band 2 - Green')\n",
    "a[0][1].hist(band2_array.ravel(), bins = range(256))\n",
    "a[0][1].set_xlabel('Intensity of Pixels --------------- >')\n",
    "a[0][1].set_ylabel('Count(n) ----->')\n",
    "a[0][1].set_xlim([0,255])\n",
    "\n",
    "a[0][2].set_title('Band 3 - Red')\n",
    "a[0][2].hist(band3_array.ravel(), bins = range(256))\n",
    "a[0][2].set_xlabel('Intensity of Pixels --------------- >')\n",
    "a[0][2].set_ylabel('Count(n) ----->')\n",
    "a[0][2].set_xlim([0,255])\n",
    "\n",
    "a[1][0].set_title('Band 4 - NIR')\n",
    "a[1][0].hist(band4_array.ravel(), bins = range(256))\n",
    "a[1][0].set_xlabel('Intensity of Pixels --------------- >')\n",
    "a[1][0].set_ylabel('Count(n) ----->')\n",
    "a[1][0].set_xlim([0,255])\n",
    "\n",
    "a[1][1].set_title('Band 5 - SWIR1')\n",
    "a[1][1].hist(band5_array.ravel(), bins = range(256))\n",
    "a[1][1].set_xlabel('Intensity of Pixels --------------- >')\n",
    "a[1][1].set_ylabel('Count(n) ----->')\n",
    "a[1][1].set_xlim([0,255])\n",
    "\n",
    "a[1][2].set_title('Band 6 - SWIR2')\n",
    "a[1][2].hist(band6_array.ravel(), bins = range(256))\n",
    "a[1][2].set_xlabel('Intensity of Pixels --------------- >')\n",
    "a[1][2].set_ylabel('Count(n) ----->')\n",
    "a[1][2].set_xlim([0,255])\n",
    "\n",
    "\n",
    "\n",
    "plt.show()"
   ]
  },
  {
   "cell_type": "code",
   "execution_count": 302,
   "metadata": {},
   "outputs": [],
   "source": [
    "\n",
    "plt.hist(image[:, :, 0].ravel(), bins = range(256), color = 'red', alpha = 0.5)\n",
    "plt.hist(image[:, :, 1].ravel(), bins = range(256), color = 'Green', alpha = 0.5)\n",
    "plt.hist(image[:, :, 2].ravel(), bins = range(256), color = 'Blue', alpha = 0.5)\n",
    "plt.xlabel('Intensity Value')\n",
    "plt.ylabel('Count')\n",
    "plt.legend(['Red_Channel(Blue band)', 'Green_Channel(Red band)', 'Blue_Channel(SWIR2 band)'])\n",
    "plt.show()"
   ]
  },
  {
   "cell_type": "code",
   "execution_count": 303,
   "metadata": {},
   "outputs": [],
   "source": [
    "plt.hist(gray.ravel(), bins = range(256), color = 'gray', )\n",
    "plt.axvline(th, color='r', linestyle='dashed', linewidth=3)\n",
    "plt.xlabel('Intensity Value ------>')\n",
    "plt.ylabel('Count ------>')\n",
    "plt.legend(['Otsu Threshold '])\n",
    "plt.show()"
   ]
  },
  {
   "cell_type": "markdown",
   "metadata": {},
   "source": [
    "# River Extraction - Otsu Based"
   ]
  },
  {
   "cell_type": "code",
   "execution_count": 281,
   "metadata": {},
   "outputs": [],
   "source": [
    "gray_river = (0.7875*band4_array + 0.2125*band5_array)"
   ]
  },
  {
   "cell_type": "code",
   "execution_count": 282,
   "metadata": {},
   "outputs": [
    {
     "name": "stdout",
     "output_type": "stream",
     "text": [
      "26.006787109374997\n"
     ]
    }
   ],
   "source": [
    "th_river = threshold_otsu(gray_river)\n",
    "print(th_river)\n",
    "#max_val = np.max(enh_img_log.ravel())\n",
    "#print(max_val)"
   ]
  },
  {
   "cell_type": "code",
   "execution_count": 283,
   "metadata": {},
   "outputs": [],
   "source": [
    "river_binary = area_opening(area_closing(gray_river<th_river))"
   ]
  },
  {
   "cell_type": "code",
   "execution_count": 284,
   "metadata": {},
   "outputs": [],
   "source": [
    "river_mask_processed =remove_small_holes(remove_small_objects(river_binary,2500),2500)\n"
   ]
  },
  {
   "cell_type": "code",
   "execution_count": 285,
   "metadata": {},
   "outputs": [],
   "source": [
    "plt.imshow(river_mask_processed,cmap=plt.cm.gray)\n",
    "plt.show()"
   ]
  },
  {
   "cell_type": "code",
   "execution_count": 4,
   "metadata": {},
   "outputs": [],
   "source": [
    "v_image = np.zeros((band1_array.shape[0],band1_array.shape[1],3))\n",
    "v_image[:,:,0] = band6_array.astype('int')\n",
    "v_image[:,:,1] = band4_array.astype('int')\n",
    "v_image[:,:,2] = band2_array.astype('int')"
   ]
  },
  {
   "cell_type": "code",
   "execution_count": 287,
   "metadata": {},
   "outputs": [],
   "source": [
    "edge_river = cv2.Canny((river_mask_processed*255).astype(np.uint8), 50, 150)\n",
    "contours,hierarchy = cv2.findContours(edge_river,cv2.RETR_EXTERNAL, cv2.CHAIN_APPROX_NONE)\n",
    "k = cv2.drawContours(v_image.astype(int), contours, -1, (255, 0, 0), 1)\n",
    "plt.imshow(k.astype(int), cmap = plt.cm.gray)\n",
    "plt.show()"
   ]
  },
  {
   "cell_type": "markdown",
   "metadata": {},
   "source": [
    "#### histograms "
   ]
  },
  {
   "cell_type": "code",
   "execution_count": 251,
   "metadata": {},
   "outputs": [],
   "source": [
    "plt.hist(band4_array.ravel(), bins = range(256), color = 'brown', alpha = 0.5)\n",
    "plt.hist(band5_array.ravel(), bins = range(256), color = 'orange', alpha = 0.6)\n",
    "plt.xlabel('Intensity Value ---->')\n",
    "plt.ylabel('Count ----->')\n",
    "plt.legend(['NIR', 'SWIR1'])\n",
    "plt.show()"
   ]
  },
  {
   "cell_type": "code",
   "execution_count": 252,
   "metadata": {},
   "outputs": [],
   "source": [
    "plt.hist(gray_river.ravel(), bins = range(256))\n",
    "plt.axvline(th_river, color='r', linestyle='dashed', linewidth=3)\n",
    "plt.xlabel('Intensity Value ---->')\n",
    "plt.ylabel('Count ----->')\n",
    "plt.xlim(0,255)\n",
    "plt.legend(['Otsu Threshold'])\n",
    "plt.show()"
   ]
  },
  {
   "cell_type": "markdown",
   "metadata": {},
   "source": [
    "# Combined"
   ]
  },
  {
   "cell_type": "code",
   "execution_count": 288,
   "metadata": {},
   "outputs": [],
   "source": [
    "final_vegetation = ((river_mask_processed + b_sand)>0)*1"
   ]
  },
  {
   "cell_type": "code",
   "execution_count": 289,
   "metadata": {},
   "outputs": [],
   "source": [
    "plt.imshow(final_vegetation,cmap=plt.cm.gray)\n",
    "plt.show()"
   ]
  },
  {
   "cell_type": "code",
   "execution_count": 290,
   "metadata": {},
   "outputs": [],
   "source": [
    "edge_forest = cv2.Canny((final_vegetation*255).astype(np.uint8), 50, 150)\n",
    "contours,hierarchy = cv2.findContours(edge_forest,cv2.RETR_EXTERNAL, cv2.CHAIN_APPROX_NONE)\n",
    "k = cv2.drawContours(v_image.astype(int), contours, -1, (255, 0, 0), 1)\n",
    "plt.imshow(k.astype(int), cmap = plt.cm.gray)\n",
    "plt.show()"
   ]
  },
  {
   "cell_type": "code",
   "execution_count": 291,
   "metadata": {},
   "outputs": [
    {
     "data": {
      "text/plain": [
       "(853, 1798)"
      ]
     },
     "execution_count": 291,
     "metadata": {},
     "output_type": "execute_result"
    }
   ],
   "source": [
    "final_vegetation.shape"
   ]
  },
  {
   "cell_type": "code",
   "execution_count": 292,
   "metadata": {},
   "outputs": [],
   "source": [
    "def Find_Kaziranga_Edge(bin_img):\n",
    "    for col in range(bin_img.shape[1]-1,-1,-1):\n",
    "        state = 1\n",
    "        for row in range(bin_img.shape[0]-1,-1,-1):\n",
    "            if bin_img[row][col] == 1:\n",
    "                state = 0\n",
    "            bin_img[row][col] = state\n",
    "    return bin_img"
   ]
  },
  {
   "cell_type": "code",
   "execution_count": 293,
   "metadata": {},
   "outputs": [],
   "source": [
    "plt.imshow(Find_Kaziranga_Edge(final_vegetation), cmap = plt.cm.gray)\n",
    "plt.show()"
   ]
  },
  {
   "cell_type": "code",
   "execution_count": 294,
   "metadata": {},
   "outputs": [],
   "source": [
    "signal_vegetation = np.array([ np.sum(final_vegetation[:,i]) for i in range(0,1798)])"
   ]
  },
  {
   "cell_type": "code",
   "execution_count": 295,
   "metadata": {},
   "outputs": [
    {
     "data": {
      "text/plain": [
       "array([ 46,  46,  46, ..., 447, 448, 448])"
      ]
     },
     "execution_count": 295,
     "metadata": {},
     "output_type": "execute_result"
    }
   ],
   "source": [
    "signal_vegetation"
   ]
  },
  {
   "cell_type": "code",
   "execution_count": 296,
   "metadata": {},
   "outputs": [],
   "source": [
    "def Plot_signal_vegetation(sv):\n",
    "    blank_img = np.zeros((853,1798))\n",
    "    for col in range(blank_img.shape[1]-1,-1,-1):\n",
    "        count = sv[col]\n",
    "        for row in range(blank_img.shape[0]-1,-1,-1):\n",
    "            if count > 0:\n",
    "                count = count-1\n",
    "                blank_img[row][col] = 1\n",
    "    return blank_img"
   ]
  },
  {
   "cell_type": "code",
   "execution_count": 297,
   "metadata": {},
   "outputs": [],
   "source": [
    "plt.imshow(Plot_signal_vegetation(signal_vegetation), cmap = 'gray')\n",
    "plt.show()"
   ]
  },
  {
   "cell_type": "markdown",
   "metadata": {},
   "source": [
    "# Refining Boundary"
   ]
  },
  {
   "cell_type": "markdown",
   "metadata": {},
   "source": [
    "#### savitzky-golay filtering "
   ]
  },
  {
   "cell_type": "code",
   "execution_count": 298,
   "metadata": {},
   "outputs": [],
   "source": [
    "from scipy.signal import savgol_filter"
   ]
  },
  {
   "cell_type": "code",
   "execution_count": 299,
   "metadata": {},
   "outputs": [],
   "source": [
    "signal_vegetation_processed = savgol_filter(signal_vegetation,153,3)\n",
    "#signal_vegetation_processed2 = savgol_filter(signal_vegetation_processed,151,3)"
   ]
  },
  {
   "cell_type": "code",
   "execution_count": 300,
   "metadata": {},
   "outputs": [],
   "source": [
    "processed_final_vegetation = Plot_signal_vegetation(signal_vegetation_processed)\n",
    "plt.imshow(processed_final_vegetation, cmap = 'gray')\n",
    "plt.show()"
   ]
  },
  {
   "cell_type": "code",
   "execution_count": 302,
   "metadata": {},
   "outputs": [],
   "source": [
    "from numpy import save,load\n",
    "save('Comparison_mask_2017.npy',processed_final_vegetation)"
   ]
  },
  {
   "cell_type": "code",
   "execution_count": 301,
   "metadata": {},
   "outputs": [],
   "source": [
    "processed_final_vegetation_edge = cv2.Canny((processed_final_vegetation*255).astype(np.uint8), 50, 150)\n",
    "contours,hierarchy = cv2.findContours(processed_final_vegetation_edge,cv2.RETR_EXTERNAL, cv2.CHAIN_APPROX_NONE)\n",
    "k = cv2.drawContours(v_image.astype(int), contours, -1, (255, 0, 0), 2)\n",
    "plt.imshow(k.astype(int), cmap = plt.cm.gray)\n",
    "plt.show()"
   ]
  },
  {
   "cell_type": "markdown",
   "metadata": {},
   "source": [
    "#### Convert Annotation to mask "
   ]
  },
  {
   "cell_type": "markdown",
   "metadata": {},
   "source": [
    "kaziranga forest 2008 image ground truth marking"
   ]
  },
  {
   "cell_type": "code",
   "execution_count": 78,
   "metadata": {},
   "outputs": [],
   "source": [
    "from skimage import io\n",
    "moon = io.imread('KNP2018_ann.png')"
   ]
  },
  {
   "cell_type": "code",
   "execution_count": 79,
   "metadata": {},
   "outputs": [],
   "source": [
    "boundary_2008_ann = (moon[:,:,0]==255) & (moon[:,:,1]==0)*1\n",
    "mask_2008_ann = np.zeros(boundary_2008_ann.shape)\n",
    "for col in range(boundary_2008_ann.shape[1]-1,-1,-1):\n",
    "        state = 1\n",
    "        for row in range(boundary_2008_ann.shape[0]-1,-1,-1):\n",
    "            if boundary_2008_ann[row][col] == 1:\n",
    "                state = 0\n",
    "            mask_2008_ann[row][col] = state\n",
    "\n",
    "plt.imshow(mask_2008_ann, cmap = 'gray')\n",
    "plt.show()"
   ]
  },
  {
   "cell_type": "code",
   "execution_count": 1128,
   "metadata": {},
   "outputs": [],
   "source": [
    "from numpy import save,load\n",
    "\n",
    "save('KNP2008_actual_mask',mask_2008_ann)"
   ]
  },
  {
   "cell_type": "markdown",
   "metadata": {},
   "source": [
    "kaziranga forest 2018 image ground truth marking"
   ]
  },
  {
   "cell_type": "code",
   "execution_count": 177,
   "metadata": {},
   "outputs": [],
   "source": [
    "moon2 = io.imread('KNP2018_ann.png')\n",
    "boundary_2018_ann = (moon2[:,:,0]==255) & (moon2[:,:,1]==0)*1\n",
    "mask_2018_ann = np.zeros(boundary_2018_ann.shape)\n",
    "for col in range(boundary_2018_ann.shape[1]-1,-1,-1):\n",
    "        state = 1\n",
    "        for row in range(boundary_2018_ann.shape[0]-1,-1,-1):\n",
    "            if boundary_2018_ann[row][col] == 1:\n",
    "                state = 0\n",
    "            mask_2018_ann[row][col] = state\n",
    "\n",
    "plt.imshow(mask_2018_ann, cmap = 'gray')\n",
    "plt.show()"
   ]
  },
  {
   "cell_type": "code",
   "execution_count": 1130,
   "metadata": {},
   "outputs": [],
   "source": [
    "save('KNP2018_actual_mask',mask_2018_ann)"
   ]
  },
  {
   "cell_type": "markdown",
   "metadata": {},
   "source": [
    "#### Visualizing Refined Results "
   ]
  },
  {
   "cell_type": "code",
   "execution_count": 178,
   "metadata": {},
   "outputs": [],
   "source": [
    "def Convert_To_Signal(obtained_mask):\n",
    "    \n",
    "    signal_obtained = np.array([ np.sum(obtained_mask[:,i]) for i in range(0,1798)])\n",
    "    \n",
    "    return signal_obtained"
   ]
  },
  {
   "cell_type": "code",
   "execution_count": 179,
   "metadata": {},
   "outputs": [],
   "source": [
    "def find_ws_ms(w1,w2,a_s,c_s,poly_ord):\n",
    "    \"\"\"\n",
    "    Outputs: window sizes(in range w1 to w2)\n",
    "          and corresponding MS error for each window size   \n",
    "    \"\"\"\n",
    "    w = np.array(range(w1,w2+1,2))\n",
    "    error = np.array([])\n",
    "    for i in range(w1,w2+1,2):\n",
    "        f_s = savgol_filter(c_s,i,poly_ord)\n",
    "        mse = np.sum((a_s-f_s)**2)/a_s.shape[0]\n",
    "        error = np.append(error,mse)\n",
    "    \n",
    "    return w,error"
   ]
  },
  {
   "cell_type": "code",
   "execution_count": 73,
   "metadata": {},
   "outputs": [],
   "source": [
    "def Plot_Results_savgol(actual_mask, obtained_mask):\n",
    "    \"\"\"\n",
    "    Obtained_mask: the noisy signal\n",
    "    \"\"\"\n",
    "    actual_signal,obtained_signal = Convert_to_Signal(actual_mask,obtained_mask)\n",
    "    \n",
    "    # Window Size to be varied from w1 to w2 and polynomials from p1 to p2\n",
    "    w1 = 3\n",
    "    w2 = 200\n",
    "    p1 = 0\n",
    "    p2 = 9\n",
    "    \n",
    "    ws_ms,ms_ws = find_ws_ms(w1,w2,actual_signal,obtained_signal)\n",
    "    po_ms,ms_po = find_po_ms(p1,p2,actual_signal,obtained_signal)\n",
    "    \n",
    "    ws_iou,iou_ws = find_ws_iou(w1,w2,actual_mask,obtained_mask)\n",
    "    po_iou,iou_po = find_po_iou(p1,p2,actual_mask,obtained_mask)\n",
    "    \n",
    "    ws_dice,dice_ws = find_ws_dice(w1,w2,actual_mask,obtained_mask)\n",
    "    po_dice,dice_po = find_po_dice(p1,p2,actual_mask,obtained_mask)\n",
    "    \n",
    "    # Plot 3 figures with the different windows and polynomials\n",
    "    \n",
    "    \n",
    "    "
   ]
  },
  {
   "cell_type": "code",
   "execution_count": 180,
   "metadata": {},
   "outputs": [],
   "source": [
    "a_msk = Convert_To_Signal(load('KNP2018_actual_mask.npy')) \n"
   ]
  },
  {
   "cell_type": "code",
   "execution_count": 181,
   "metadata": {},
   "outputs": [
    {
     "data": {
      "text/plain": [
       "array([ 45,  46,  46, ..., 418, 418, 419])"
      ]
     },
     "execution_count": 181,
     "metadata": {},
     "output_type": "execute_result"
    }
   ],
   "source": [
    "ext_msk = signal_vegetation\n",
    "ext_msk"
   ]
  },
  {
   "cell_type": "code",
   "execution_count": 182,
   "metadata": {},
   "outputs": [
    {
     "name": "stdout",
     "output_type": "stream",
     "text": [
      "done 1\n",
      "done 2\n",
      "done 3\n",
      "done 4\n",
      "done 5\n",
      "done 6\n",
      "done 7\n",
      "done 8\n"
     ]
    }
   ],
   "source": [
    "wins0,errs0 = find_ws_ms(11,501,a_msk,ext_msk,0)\n",
    "print('done 1')\n",
    "wins1,errs1 = find_ws_ms(11,501,a_msk,ext_msk,1)\n",
    "print('done 2')\n",
    "wins2,errs2 = find_ws_ms(11,501,a_msk,ext_msk,2)\n",
    "print('done 3')\n",
    "wins3,errs3 = find_ws_ms(11,501,a_msk,ext_msk,3)\n",
    "print('done 4')\n",
    "wins4,errs4 = find_ws_ms(11,501,a_msk,ext_msk,4)\n",
    "print('done 5')\n",
    "wins5,errs5 = find_ws_ms(11,501,a_msk,ext_msk,5)\n",
    "print('done 6')\n",
    "wins6,errs6 = find_ws_ms(11,501,a_msk,ext_msk,6)\n",
    "print('done 7')\n",
    "wins7,errs7 = find_ws_ms(11,501,a_msk,ext_msk,7)\n",
    "print('done 8')\n",
    "wins8,errs8 = find_ws_ms(11,501,a_msk,ext_msk,8)"
   ]
  },
  {
   "cell_type": "code",
   "execution_count": null,
   "metadata": {},
   "outputs": [],
   "source": []
  },
  {
   "cell_type": "code",
   "execution_count": null,
   "metadata": {},
   "outputs": [],
   "source": []
  },
  {
   "cell_type": "code",
   "execution_count": 1261,
   "metadata": {},
   "outputs": [],
   "source": []
  },
  {
   "cell_type": "code",
   "execution_count": 223,
   "metadata": {},
   "outputs": [],
   "source": [
    "\n",
    "plt.plot(wins2,errs2, label = 'polynomial order 2')\n",
    "plt.plot(wins3,errs3, label = 'polynomial order 3')\n",
    "plt.plot(wins4,errs4, label = 'polynomial order 4')\n",
    "plt.plot(wins5,errs5, label = 'polynomial order 5')\n",
    "plt.legend()\n",
    "plt.xlabel('Window Size --->')\n",
    "plt.ylabel('Mean Square Error (MSE) --->')\n",
    "plt.title('Mean Square Error Curves for Different Window Size and Polynomial Order')\n",
    "plt.show()"
   ]
  },
  {
   "cell_type": "code",
   "execution_count": 227,
   "metadata": {},
   "outputs": [
    {
     "data": {
      "text/plain": [
       "array([193.35268195, 193.24944654, 193.2437857 , 193.26474422,\n",
       "       193.28742894, 193.3497446 , 193.45905197, 193.57693748,\n",
       "       193.72162602, 193.88215183])"
      ]
     },
     "execution_count": 227,
     "metadata": {},
     "output_type": "execute_result"
    }
   ],
   "source": [
    "errs4[189:199]"
   ]
  },
  {
   "cell_type": "markdown",
   "metadata": {},
   "source": [
    "# Comparing boundary visually\n"
   ]
  },
  {
   "cell_type": "code",
   "execution_count": 48,
   "metadata": {},
   "outputs": [],
   "source": [
    "from skimage import io\n",
    "\n",
    "actual_bound = load('KNP2018_actual_mask.npy')\n",
    "plt.imshow(actual_bound)\n",
    "plt.show()"
   ]
  },
  {
   "cell_type": "code",
   "execution_count": 62,
   "metadata": {},
   "outputs": [],
   "source": [
    "comp_img_bound = cv2.drawContours(v_image.astype(int), contours, -1, (255, 0, 255), 2)\n",
    "plt.imshow(comp_img_bound.astype(int))\n",
    "plt.show()"
   ]
  },
  {
   "cell_type": "code",
   "execution_count": 63,
   "metadata": {},
   "outputs": [],
   "source": [
    "actual_bound_edge = cv2.Canny((actual_bound*255).astype(np.uint8), 50, 150)\n",
    "contours2,hierarchy2 = cv2.findContours(actual_bound_edge,cv2.RETR_EXTERNAL, cv2.CHAIN_APPROX_NONE)\n",
    "final_comp = cv2.drawContours(comp_img_bound.astype(int), contours2, -1, (255, 255, 0), 2)\n",
    "plt.imshow(final_comp.astype(int), cmap = plt.cm.gray)\n",
    "plt.show()"
   ]
  },
  {
   "cell_type": "markdown",
   "metadata": {},
   "source": [
    "# Projecting Unstable Areas"
   ]
  },
  {
   "cell_type": "code",
   "execution_count": 5,
   "metadata": {},
   "outputs": [],
   "source": [
    "from skimage import io\n",
    "\n",
    "forest_area_2008 = load('Comparison_mask_2008.npy')\n",
    "forest_area_2009 = load('Comparison_mask_2009.npy')\n",
    "forest_area_2014 = load('Comparison_mask_2014.npy')\n",
    "forest_area_2018 = load('Comparison_mask_2018.npy')"
   ]
  },
  {
   "cell_type": "code",
   "execution_count": 9,
   "metadata": {},
   "outputs": [],
   "source": [
    "plt.imshow(v_image.astype('int'))\n",
    "plt.show()"
   ]
  },
  {
   "cell_type": "code",
   "execution_count": 17,
   "metadata": {},
   "outputs": [],
   "source": [
    "knp_ann = io.imread('KNP2008_ann.png')"
   ]
  },
  {
   "cell_type": "code",
   "execution_count": 18,
   "metadata": {},
   "outputs": [],
   "source": [
    "forest_area_2008_edge = cv2.Canny((forest_area_2008*255).astype(np.uint8), 50, 150)\n",
    "contours1,hierarchy1 = cv2.findContours(forest_area_2008_edge,cv2.RETR_EXTERNAL, cv2.CHAIN_APPROX_NONE)\n",
    "res1 = cv2.drawContours(knp_ann.astype(int), contours1, -1, (0, 255, 255), 1)\n",
    "plt.imshow(res1.astype(int), cmap = plt.cm.gray)\n",
    "plt.show()"
   ]
  },
  {
   "cell_type": "code",
   "execution_count": 101,
   "metadata": {},
   "outputs": [],
   "source": [
    "forest_area_2009_edge = cv2.Canny((forest_area_2009*255).astype(np.uint8), 50, 150)\n",
    "contours2,hierarchy2 = cv2.findContours(forest_area_2009_edge,cv2.RETR_EXTERNAL, cv2.CHAIN_APPROX_NONE)\n",
    "res2 = cv2.drawContours(res1.astype(int), contours2, -1, (0, 255, 0), 2)\n",
    "plt.imshow(res2.astype(int), cmap = plt.cm.gray)\n",
    "plt.show()"
   ]
  },
  {
   "cell_type": "code",
   "execution_count": 102,
   "metadata": {},
   "outputs": [],
   "source": [
    "forest_area_2014_edge = cv2.Canny((forest_area_2014*255).astype(np.uint8), 50, 150)\n",
    "contours3,hierarchy3 = cv2.findContours(forest_area_2014_edge,cv2.RETR_EXTERNAL, cv2.CHAIN_APPROX_NONE)\n",
    "res3 = cv2.drawContours(res2.astype(int), contours3, -1, (255, 0, 0), 2)\n",
    "plt.imshow(res3.astype(int), cmap = plt.cm.gray)\n",
    "plt.show()"
   ]
  },
  {
   "cell_type": "code",
   "execution_count": 103,
   "metadata": {},
   "outputs": [],
   "source": [
    "forest_area_2018_edge = cv2.Canny((forest_area_2018*255).astype(np.uint8), 50, 150)\n",
    "contours4,hierarchy4 = cv2.findContours(forest_area_2018_edge,cv2.RETR_EXTERNAL, cv2.CHAIN_APPROX_NONE)\n",
    "res4 = cv2.drawContours(res3.astype(int), contours4, -1, (255, 0, 255), 2)\n"
   ]
  },
  {
   "cell_type": "code",
   "execution_count": 104,
   "metadata": {},
   "outputs": [],
   "source": [
    "plt.imshow(res4.astype(int), cmap = plt.cm.gray)\n",
    "plt.show()"
   ]
  },
  {
   "cell_type": "markdown",
   "metadata": {},
   "source": [
    "# Erosion Analysis"
   ]
  },
  {
   "cell_type": "code",
   "execution_count": 814,
   "metadata": {},
   "outputs": [],
   "source": [
    "region1_2008 = v_image[216:450,1200:1520,:]"
   ]
  },
  {
   "cell_type": "code",
   "execution_count": 817,
   "metadata": {},
   "outputs": [],
   "source": [
    "region1_2018 = v_image[216:450,1200:1520,:]"
   ]
  },
  {
   "cell_type": "code",
   "execution_count": 821,
   "metadata": {},
   "outputs": [],
   "source": [
    "plt.imshow(region1_2008.astype('int'))\n",
    "plt.show()"
   ]
  },
  {
   "cell_type": "code",
   "execution_count": 822,
   "metadata": {},
   "outputs": [],
   "source": [
    "plt.imshow(region1_2018.astype('int'))\n",
    "plt.show()"
   ]
  },
  {
   "cell_type": "code",
   "execution_count": 825,
   "metadata": {},
   "outputs": [],
   "source": [
    "erosion = (forest_area_2008[216:450,1200:1520]-forest_area_2018[216:450,1200:1520])>0"
   ]
  },
  {
   "cell_type": "code",
   "execution_count": 826,
   "metadata": {},
   "outputs": [],
   "source": [
    "plt.imshow(erosion.astype('int'), cmap = 'gray')\n",
    "plt.show()"
   ]
  },
  {
   "cell_type": "code",
   "execution_count": 828,
   "metadata": {},
   "outputs": [
    {
     "data": {
      "text/plain": [
       "array([[0, 0, 0, ..., 0, 0, 0],\n",
       "       [0, 0, 0, ..., 0, 0, 0],\n",
       "       [0, 0, 0, ..., 0, 0, 0],\n",
       "       ...,\n",
       "       [0, 0, 0, ..., 0, 0, 0],\n",
       "       [0, 0, 0, ..., 0, 0, 0],\n",
       "       [0, 0, 0, ..., 0, 0, 0]])"
      ]
     },
     "execution_count": 828,
     "metadata": {},
     "output_type": "execute_result"
    }
   ],
   "source": [
    "erosion*1"
   ]
  },
  {
   "cell_type": "code",
   "execution_count": 830,
   "metadata": {},
   "outputs": [
    {
     "data": {
      "text/plain": [
       "6007"
      ]
     },
     "execution_count": 830,
     "metadata": {},
     "output_type": "execute_result"
    }
   ],
   "source": [
    "np.sum(erosion*1)"
   ]
  },
  {
   "cell_type": "code",
   "execution_count": 834,
   "metadata": {},
   "outputs": [],
   "source": [
    "plt.imshow(forest_area_2018[216:450,1200:1520], cmap = 'gray')\n",
    "plt.show()"
   ]
  },
  {
   "cell_type": "code",
   "execution_count": 835,
   "metadata": {},
   "outputs": [
    {
     "data": {
      "text/plain": [
       "48183.0"
      ]
     },
     "execution_count": 835,
     "metadata": {},
     "output_type": "execute_result"
    }
   ],
   "source": [
    "np.sum(forest_area_2008[216:450,1200:1520]*1)"
   ]
  },
  {
   "cell_type": "code",
   "execution_count": 836,
   "metadata": {},
   "outputs": [
    {
     "data": {
      "text/plain": [
       "42176.0"
      ]
     },
     "execution_count": 836,
     "metadata": {},
     "output_type": "execute_result"
    }
   ],
   "source": [
    "np.sum(forest_area_2018[216:450,1200:1520]*1)"
   ]
  },
  {
   "cell_type": "markdown",
   "metadata": {},
   "source": [
    "# Creating Graph on Erosion per year and table"
   ]
  },
  {
   "cell_type": "markdown",
   "metadata": {},
   "source": [
    "Scale 1 pixel = 900 sq.m                                                                 \n",
    "Heads : year, forest cover area, erosion in that year, cumulative erosion since 2008                                           \n",
    "critical area slice : [216:450, 1200:1520]"
   ]
  },
  {
   "cell_type": "code",
   "execution_count": 305,
   "metadata": {},
   "outputs": [],
   "source": [
    "forest_area_2008 = load('Comparison_mask_2008.npy')\n",
    "forest_area_2009 = load('Comparison_mask_2009.npy')\n",
    "forest_area_2010 = load('Comparison_mask_2010.npy')\n",
    "forest_area_2011 = load('Comparison_mask_2011.npy')\n",
    "forest_area_2013 = load('Comparison_mask_2013.npy')\n",
    "forest_area_2014 = load('Comparison_mask_2014.npy')\n",
    "forest_area_2015 = load('Comparison_mask_2015.npy')\n",
    "forest_area_2016 = load('Comparison_mask_2016.npy')\n",
    "forest_area_2017 = load('Comparison_mask_2017.npy')\n",
    "forest_area_2018 = load('Comparison_mask_2018.npy')"
   ]
  },
  {
   "cell_type": "code",
   "execution_count": 306,
   "metadata": {},
   "outputs": [],
   "source": [
    "erosion8to9 = (forest_area_2008[216:450,1200:1520]-forest_area_2009[216:450,1200:1520])>0\n",
    "erosion9to10 = (forest_area_2009[216:450,1200:1520]-forest_area_2010[216:450,1200:1520])>0\n",
    "erosion10to11 = (forest_area_2010[216:450,1200:1520]-forest_area_2011[216:450,1200:1520])>0\n",
    "erosion11to13 = (forest_area_2011[216:450,1200:1520]-forest_area_2013[216:450,1200:1520])>0\n",
    "erosion13to14 = (forest_area_2013[216:450,1200:1520]-forest_area_2014[216:450,1200:1520])>0\n",
    "erosion14to15 = (forest_area_2014[216:450,1200:1520]-forest_area_2015[216:450,1200:1520])>0\n",
    "erosion15to16 = (forest_area_2015[216:450,1200:1520]-forest_area_2016[216:450,1200:1520])>0\n",
    "erosion16to17 = (forest_area_2016[216:450,1200:1520]-forest_area_2017[216:450,1200:1520])>0\n",
    "erosion17to18 = (forest_area_2017[216:450,1200:1520]-forest_area_2018[216:450,1200:1520])>0"
   ]
  },
  {
   "cell_type": "code",
   "execution_count": 316,
   "metadata": {},
   "outputs": [
    {
     "data": {
      "text/plain": [
       "1136"
      ]
     },
     "execution_count": 316,
     "metadata": {},
     "output_type": "execute_result"
    }
   ],
   "source": [
    "np.sum(erosion17to18)"
   ]
  },
  {
   "cell_type": "code",
   "execution_count": 336,
   "metadata": {},
   "outputs": [],
   "source": [
    "x = np.array([2008,2009,2010,2011,2013,2014,2015,2016,2017,2018])\n",
    "y = np.array([0,383,995,782,1208,933,541,911,1543,1136])*0.03*0.03\n"
   ]
  },
  {
   "cell_type": "code",
   "execution_count": 337,
   "metadata": {},
   "outputs": [],
   "source": [
    "plt.plot(x,y,linestyle='--', marker='s', color='b')\n",
    "plt.xlabel('Year --->')\n",
    "plt.ylabel('Erosion (sq.km) --->')\n",
    "plt.show()"
   ]
  },
  {
   "cell_type": "code",
   "execution_count": 329,
   "metadata": {},
   "outputs": [
    {
     "data": {
      "text/plain": [
       "array([0.3447, 0.8955, 0.7038, 1.0872, 0.8397, 0.4869, 0.8199, 1.3887,\n",
       "       1.0224])"
      ]
     },
     "execution_count": 329,
     "metadata": {},
     "output_type": "execute_result"
    }
   ],
   "source": [
    "y"
   ]
  },
  {
   "cell_type": "code",
   "execution_count": 354,
   "metadata": {},
   "outputs": [],
   "source": [
    "y2 = np.array([0,383,1235,1712,2613,3264,3411,4094,5152,6007])*0.03*0.03"
   ]
  },
  {
   "cell_type": "code",
   "execution_count": 355,
   "metadata": {},
   "outputs": [],
   "source": [
    "plt.plot(x,y2,linestyle='--', marker='s', color='black')\n",
    "plt.xlabel('Year --->')\n",
    "plt.ylabel('Cumulative Erosion since 2008 (sq.km) --->')\n",
    "plt.show()"
   ]
  },
  {
   "cell_type": "code",
   "execution_count": 332,
   "metadata": {},
   "outputs": [
    {
     "data": {
      "text/plain": [
       "(9,)"
      ]
     },
     "execution_count": 332,
     "metadata": {},
     "output_type": "execute_result"
    }
   ],
   "source": [
    "x.shape"
   ]
  },
  {
   "cell_type": "code",
   "execution_count": 334,
   "metadata": {},
   "outputs": [
    {
     "data": {
      "text/plain": [
       "(10,)"
      ]
     },
     "execution_count": 334,
     "metadata": {},
     "output_type": "execute_result"
    }
   ],
   "source": [
    "y2.shape"
   ]
  },
  {
   "cell_type": "code",
   "execution_count": 335,
   "metadata": {},
   "outputs": [
    {
     "data": {
      "text/plain": [
       "(9,)"
      ]
     },
     "execution_count": 335,
     "metadata": {},
     "output_type": "execute_result"
    }
   ],
   "source": [
    "y.shape"
   ]
  },
  {
   "cell_type": "code",
   "execution_count": 342,
   "metadata": {},
   "outputs": [],
   "source": [
    "erosion8to9 = (forest_area_2008[216:450,1200:1520]-forest_area_2009[216:450,1200:1520])>0\n",
    "erosion8to10 = (forest_area_2008[216:450,1200:1520]-forest_area_2010[216:450,1200:1520])>0\n",
    "erosion8to11 = (forest_area_2008[216:450,1200:1520]-forest_area_2011[216:450,1200:1520])>0\n",
    "erosion8to13 = (forest_area_2008[216:450,1200:1520]-forest_area_2013[216:450,1200:1520])>0\n",
    "erosion8to14 = (forest_area_2008[216:450,1200:1520]-forest_area_2014[216:450,1200:1520])>0\n",
    "erosion8to15 = (forest_area_2008[216:450,1200:1520]-forest_area_2015[216:450,1200:1520])>0\n",
    "erosion8to16 = (forest_area_2008[216:450,1200:1520]-forest_area_2016[216:450,1200:1520])>0\n",
    "erosion8to17 = (forest_area_2008[216:450,1200:1520]-forest_area_2017[216:450,1200:1520])>0\n",
    "erosion8to18 = (forest_area_2008[216:450,1200:1520]-forest_area_2018[216:450,1200:1520])>0"
   ]
  },
  {
   "cell_type": "code",
   "execution_count": 351,
   "metadata": {},
   "outputs": [
    {
     "data": {
      "text/plain": [
       "6007"
      ]
     },
     "execution_count": 351,
     "metadata": {},
     "output_type": "execute_result"
    }
   ],
   "source": [
    "np.sum(erosion8to18)"
   ]
  },
  {
   "cell_type": "code",
   "execution_count": 356,
   "metadata": {},
   "outputs": [
    {
     "data": {
      "text/plain": [
       "array([0.    , 0.3447, 1.1115, 1.5408, 2.3517, 2.9376, 3.0699, 3.6846,\n",
       "       4.6368, 5.4063])"
      ]
     },
     "execution_count": 356,
     "metadata": {},
     "output_type": "execute_result"
    }
   ],
   "source": [
    "y2"
   ]
  }
 ],
 "metadata": {
  "kernelspec": {
   "display_name": "Python 3",
   "language": "python",
   "name": "python3"
  },
  "language_info": {
   "codemirror_mode": {
    "name": "ipython",
    "version": 3
   },
   "file_extension": ".py",
   "mimetype": "text/x-python",
   "name": "python",
   "nbconvert_exporter": "python",
   "pygments_lexer": "ipython3",
   "version": "3.7.6"
  }
 },
 "nbformat": 4,
 "nbformat_minor": 4
}
