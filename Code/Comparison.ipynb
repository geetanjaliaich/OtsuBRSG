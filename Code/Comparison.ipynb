{
 "cells": [
  {
   "cell_type": "code",
   "execution_count": 1,
   "metadata": {},
   "outputs": [],
   "source": [
    "%matplotlib qt5\n",
    "import numpy as np\n",
    "#from fcmeans import FCM\n",
    "from matplotlib import pyplot as plt"
   ]
  },
  {
   "cell_type": "markdown",
   "metadata": {},
   "source": [
    "# Saving KMeans Clustering Masks"
   ]
  },
  {
   "cell_type": "code",
   "execution_count": 24,
   "metadata": {},
   "outputs": [],
   "source": [
    "cl_3 = np.load('kmean_clusters/clusters_3.npy')\n",
    "blank_img_veg = np.zeros(cl_3.shape)\n",
    "blank_img_water = np.zeros(cl_3.shape)\n",
    "blank_img_sand = np.zeros(cl_3.shape)"
   ]
  },
  {
   "cell_type": "markdown",
   "metadata": {},
   "source": [
    "Vegetation - [227,186,234]\n",
    "water - [222,236,246]\n",
    "sand - [216,202,211]"
   ]
  },
  {
   "cell_type": "code",
   "execution_count": 25,
   "metadata": {},
   "outputs": [],
   "source": [
    "blank_img_veg[np.where((cl_3 == [227,186,234]).all(axis = 2))] = [1,1,1]\n",
    "blank_img_water[np.where((cl_3 == [222,236,246]).all(axis = 2))] = [1,1,1]\n",
    "blank_img_sand[np.where((cl_3 == [216,202,211]).all(axis = 2))] = [1,1,1]\n",
    "plt.imshow(blank_img_veg)\n",
    "plt.show()"
   ]
  },
  {
   "cell_type": "code",
   "execution_count": 12,
   "metadata": {},
   "outputs": [],
   "source": [
    "np.save('kmean_masks/vegetation.npy',blank_img)"
   ]
  },
  {
   "cell_type": "code",
   "execution_count": 17,
   "metadata": {},
   "outputs": [],
   "source": [
    "np.save('kmean_masks/water.npy',blank_img_water)\n",
    "np.save('kmean_masks/sand.npy',blank_img_sand)"
   ]
  },
  {
   "cell_type": "markdown",
   "metadata": {},
   "source": [
    "# Saving Fuzzy C Means Masks"
   ]
  },
  {
   "cell_type": "code",
   "execution_count": 18,
   "metadata": {},
   "outputs": [],
   "source": [
    "cl_3 = np.load('fuzz_clusters/cluster_3.npy')\n",
    "blank_img_veg = np.zeros(cl_3.shape)\n",
    "blank_img_water = np.zeros(cl_3.shape)\n",
    "blank_img_sand = np.zeros(cl_3.shape)\n",
    "plt.imshow(cl_3)\n",
    "plt.show()"
   ]
  },
  {
   "cell_type": "markdown",
   "metadata": {},
   "source": [
    "vegetation - [24,59,26], water - [9,19,31], sand - [82,62,58]"
   ]
  },
  {
   "cell_type": "code",
   "execution_count": 21,
   "metadata": {},
   "outputs": [],
   "source": [
    "blank_img_veg[np.where((cl_3 == [24,59,26]).all(axis = 2))] = [1,1,1]\n",
    "blank_img_water[np.where((cl_3 == [9,19,31]).all(axis = 2))] = [1,1,1]\n",
    "blank_img_sand[np.where((cl_3 == [82,62,58]).all(axis = 2))] = [1,1,1]\n",
    "plt.imshow(blank_img_veg)\n",
    "plt.show()"
   ]
  },
  {
   "cell_type": "code",
   "execution_count": 20,
   "metadata": {},
   "outputs": [],
   "source": [
    "np.save('fuzz_masks/water.npy',blank_img_water)\n",
    "np.save('fuzz_masks/sand.npy',blank_img_sand)\n",
    "np.save('fuzz_masks/vegetation.npy',blank_img_veg)"
   ]
  },
  {
   "cell_type": "markdown",
   "metadata": {},
   "source": [
    "# Calculating Boundary pixel density"
   ]
  },
  {
   "cell_type": "markdown",
   "metadata": {},
   "source": [
    "### Actual Boundary Pixel"
   ]
  },
  {
   "cell_type": "code",
   "execution_count": 2,
   "metadata": {},
   "outputs": [],
   "source": [
    "ann_2008 = np.load('D:\\Kaziranga\\KNP2008_actual_mask.npy')\n",
    "ann_2018 = np.load('D:\\Kaziranga\\KNP2018_actual_mask.npy')"
   ]
  },
  {
   "cell_type": "code",
   "execution_count": 3,
   "metadata": {},
   "outputs": [],
   "source": [
    "import cv2\n",
    "from skimage.util import img_as_ubyte"
   ]
  },
  {
   "cell_type": "code",
   "execution_count": 5,
   "metadata": {},
   "outputs": [],
   "source": [
    "edges1 = cv2.Canny(img_as_ubyte(ann_2008),150,200)\n",
    "edges2 = cv2.Canny(img_as_ubyte(ann_2018),100,200)"
   ]
  },
  {
   "cell_type": "code",
   "execution_count": 7,
   "metadata": {},
   "outputs": [],
   "source": [
    "edge_2008 = (edges1>0)*1\n",
    "edge_2018 = (edges2>0)*1"
   ]
  },
  {
   "cell_type": "code",
   "execution_count": 11,
   "metadata": {},
   "outputs": [
    {
     "data": {
      "text/plain": [
       "2244"
      ]
     },
     "execution_count": 11,
     "metadata": {},
     "output_type": "execute_result"
    }
   ],
   "source": [
    "np.sum(edge_2008.flatten())"
   ]
  },
  {
   "cell_type": "code",
   "execution_count": 12,
   "metadata": {},
   "outputs": [
    {
     "data": {
      "text/plain": [
       "2223"
      ]
     },
     "execution_count": 12,
     "metadata": {},
     "output_type": "execute_result"
    }
   ],
   "source": [
    "np.sum(edge_2018.flatten())"
   ]
  },
  {
   "cell_type": "code",
   "execution_count": 14,
   "metadata": {},
   "outputs": [
    {
     "data": {
      "text/plain": [
       "1533694"
      ]
     },
     "execution_count": 14,
     "metadata": {},
     "output_type": "execute_result"
    }
   ],
   "source": [
    "edge_2008.shape[0]*edge_2008.shape[1]"
   ]
  },
  {
   "cell_type": "code",
   "execution_count": 15,
   "metadata": {},
   "outputs": [
    {
     "data": {
      "text/plain": [
       "0.0014631341062819572"
      ]
     },
     "execution_count": 15,
     "metadata": {},
     "output_type": "execute_result"
    }
   ],
   "source": [
    "2244/1533694"
   ]
  },
  {
   "cell_type": "markdown",
   "metadata": {},
   "source": [
    "### Canny Boundary Pixel "
   ]
  },
  {
   "cell_type": "code",
   "execution_count": 19,
   "metadata": {},
   "outputs": [],
   "source": [
    "band1_array = np.load('KNP_2008_bands/band1.npy')\n",
    "band6_array = np.load('KNP_2008_bands/band6.npy')\n",
    "band4_array = np.load('KNP_2008_bands/band4.npy')\n",
    "band2_array = np.load('KNP_2008_bands/band2.npy')\n",
    "image = np.zeros((band1_array.shape[0],band1_array.shape[1],3))\n",
    "image[:,:,0] = band6_array\n",
    "image[:,:,1] = band4_array\n",
    "image[:,:,2] = band2_array\n",
    "\n",
    "plt.imshow(image.astype('int'))\n",
    "plt.axis('off')\n",
    "plt.show()"
   ]
  },
  {
   "cell_type": "code",
   "execution_count": 20,
   "metadata": {},
   "outputs": [],
   "source": [
    "import cv2"
   ]
  },
  {
   "cell_type": "code",
   "execution_count": 70,
   "metadata": {},
   "outputs": [],
   "source": [
    "edges1 = cv2.Canny(band4_array,150,250)\n",
    "edges2 = cv2.Canny(band6_array,150,200)"
   ]
  },
  {
   "cell_type": "code",
   "execution_count": 71,
   "metadata": {},
   "outputs": [],
   "source": [
    "plt.imshow(edges1, cmap = 'gray')\n",
    "plt.axis('off')\n",
    "plt.show()"
   ]
  },
  {
   "cell_type": "code",
   "execution_count": 72,
   "metadata": {},
   "outputs": [],
   "source": [
    "edge_2008 = (edges1>0)*1\n",
    "edge_2018 = (edges2>0)*1"
   ]
  },
  {
   "cell_type": "code",
   "execution_count": 73,
   "metadata": {},
   "outputs": [
    {
     "data": {
      "text/plain": [
       "19555"
      ]
     },
     "execution_count": 73,
     "metadata": {},
     "output_type": "execute_result"
    }
   ],
   "source": [
    "np.sum(edge_2008.flatten())"
   ]
  },
  {
   "cell_type": "code",
   "execution_count": 74,
   "metadata": {},
   "outputs": [
    {
     "data": {
      "text/plain": [
       "0.012750261786249408"
      ]
     },
     "execution_count": 74,
     "metadata": {},
     "output_type": "execute_result"
    }
   ],
   "source": [
    "19555/1533694"
   ]
  },
  {
   "cell_type": "markdown",
   "metadata": {},
   "source": [
    "### Robert Boundary Pixel"
   ]
  },
  {
   "cell_type": "code",
   "execution_count": 90,
   "metadata": {},
   "outputs": [],
   "source": [
    "kernelx = np.array([[1,0],[0,-1]])\n",
    "kernely = np.array([[0,1],[-1,0]])\n",
    "\n",
    "reg1_robertx = cv2.filter2D(band4_array,-1,kernelx)\n",
    "reg1_roberty = cv2.filter2D(band4_array,-1,kernely)\n",
    "\n",
    "reg1_robert = reg1_robertx+reg1_roberty\n",
    "\n",
    "plt.imshow(reg1_robert>40, cmap = 'gray')\n",
    "plt.axis('off')\n",
    "plt.show()"
   ]
  },
  {
   "cell_type": "code",
   "execution_count": 85,
   "metadata": {},
   "outputs": [
    {
     "data": {
      "text/plain": [
       "3878"
      ]
     },
     "execution_count": 85,
     "metadata": {},
     "output_type": "execute_result"
    }
   ],
   "source": [
    "edge_2008 = (reg1_robert>55)*1\n",
    "np.sum(edge_2008.flatten())"
   ]
  },
  {
   "cell_type": "code",
   "execution_count": 87,
   "metadata": {},
   "outputs": [
    {
     "data": {
      "text/plain": [
       "0.0025285356792163235"
      ]
     },
     "execution_count": 87,
     "metadata": {},
     "output_type": "execute_result"
    }
   ],
   "source": [
    "3878/1533694"
   ]
  },
  {
   "cell_type": "markdown",
   "metadata": {},
   "source": [
    "### Sobel Boundary Pixel "
   ]
  },
  {
   "cell_type": "code",
   "execution_count": 100,
   "metadata": {},
   "outputs": [],
   "source": [
    "reg1_sobelx = cv2.Sobel(band4_array.astype('uint8'),cv2.CV_8U,0,1,ksize=1)\n",
    "reg1_sobely = cv2.Sobel(band4_array.astype('uint8'),cv2.CV_8U,1,0,ksize=1)\n",
    "reg1_sobel = reg1_sobelx+reg1_sobely\n",
    "\n",
    "plt.imshow(reg1_sobely>20, cmap = 'gray')\n",
    "plt.axis('off')\n",
    "plt.show()"
   ]
  },
  {
   "cell_type": "code",
   "execution_count": 97,
   "metadata": {},
   "outputs": [
    {
     "data": {
      "text/plain": [
       "29170"
      ]
     },
     "execution_count": 97,
     "metadata": {},
     "output_type": "execute_result"
    }
   ],
   "source": [
    "edge_2008 = (reg1_sobely>20)*1\n",
    "np.sum(edge_2008.flatten())"
   ]
  },
  {
   "cell_type": "code",
   "execution_count": 99,
   "metadata": {},
   "outputs": [
    {
     "data": {
      "text/plain": [
       "0.0190194393405725"
      ]
     },
     "execution_count": 99,
     "metadata": {},
     "output_type": "execute_result"
    }
   ],
   "source": [
    "29170/1533694"
   ]
  },
  {
   "cell_type": "code",
   "execution_count": 101,
   "metadata": {},
   "outputs": [],
   "source": [
    "sobelx64f = cv2.Sobel(band4_array.astype('uint8'),cv2.CV_64F,1,0,ksize=1)\n",
    "abs_sobel64f = np.absolute(sobelx64f)\n",
    "sobel_8u = np.uint8(abs_sobel64f)\n",
    "\n"
   ]
  },
  {
   "cell_type": "code",
   "execution_count": 103,
   "metadata": {},
   "outputs": [],
   "source": [
    "plt.imshow(sobel_8u>29, cmap = 'gray')\n",
    "plt.axis('off')\n",
    "plt.show()"
   ]
  },
  {
   "cell_type": "markdown",
   "metadata": {},
   "source": [
    "### Phase Congruency Edge"
   ]
  },
  {
   "cell_type": "code",
   "execution_count": 104,
   "metadata": {},
   "outputs": [],
   "source": [
    "from phasepack import phasecong,phasecongmono\n",
    "from skimage.color import rgb2gray"
   ]
  },
  {
   "cell_type": "code",
   "execution_count": 105,
   "metadata": {},
   "outputs": [],
   "source": [
    "reg1 = image\n",
    "plt.imshow(reg1.astype('int'))\n",
    "plt.axis('off')\n",
    "plt.show()"
   ]
  },
  {
   "cell_type": "code",
   "execution_count": 106,
   "metadata": {},
   "outputs": [],
   "source": [
    "reg1_phcg = rgb2gray(reg1)"
   ]
  },
  {
   "cell_type": "code",
   "execution_count": 107,
   "metadata": {},
   "outputs": [],
   "source": [
    "plt.imshow(reg1_phcg.astype('int'))\n",
    "plt.axis('off')\n",
    "plt.show()"
   ]
  },
  {
   "cell_type": "code",
   "execution_count": 108,
   "metadata": {},
   "outputs": [],
   "source": [
    "reg1_phcg_float = reg1_phcg.astype('float64')\n",
    "\n",
    "(pc, ori, ft, T) = phasecongmono(reg1_phcg_float, nscale=4, minWaveLength=3, mult=2,sigmaOnf=0.55, k=3, cutOff=0.5, g=10,deviationGain=1.5, noiseMethod=-1)\n"
   ]
  },
  {
   "cell_type": "code",
   "execution_count": 109,
   "metadata": {},
   "outputs": [],
   "source": [
    "plt.imshow(pc, cmap='gray')\n",
    "plt.axis('off')\n",
    "plt.show()"
   ]
  },
  {
   "cell_type": "code",
   "execution_count": 110,
   "metadata": {},
   "outputs": [],
   "source": [
    "reg1_phcg_float = reg1_phcg.astype('float64')\n",
    "\n",
    "(M,m,a,b,c,d,e) = phasecong(reg1_phcg_float)"
   ]
  },
  {
   "cell_type": "code",
   "execution_count": 115,
   "metadata": {},
   "outputs": [],
   "source": [
    "plt.imshow(M, cmap='gray')\n",
    "plt.axis('off')\n",
    "plt.show()"
   ]
  },
  {
   "cell_type": "code",
   "execution_count": 112,
   "metadata": {},
   "outputs": [],
   "source": [
    "from skimage.filters import apply_hysteresis_threshold"
   ]
  },
  {
   "cell_type": "code",
   "execution_count": 135,
   "metadata": {},
   "outputs": [],
   "source": [
    "edges_phcg = apply_hysteresis_threshold(pc,0.2,0.3)"
   ]
  },
  {
   "cell_type": "code",
   "execution_count": 136,
   "metadata": {},
   "outputs": [],
   "source": [
    "plt.imshow(edges_phcg, cmap='gray')\n",
    "plt.axis('off')\n",
    "plt.show()"
   ]
  },
  {
   "cell_type": "code",
   "execution_count": 137,
   "metadata": {},
   "outputs": [
    {
     "data": {
      "text/plain": [
       "95624"
      ]
     },
     "execution_count": 137,
     "metadata": {},
     "output_type": "execute_result"
    }
   ],
   "source": [
    "edge_2008 = (edges_phcg)*1\n",
    "np.sum(edge_2008.flatten())"
   ]
  },
  {
   "cell_type": "code",
   "execution_count": 139,
   "metadata": {},
   "outputs": [
    {
     "data": {
      "text/plain": [
       "0.06234881273578693"
      ]
     },
     "execution_count": 139,
     "metadata": {},
     "output_type": "execute_result"
    }
   ],
   "source": [
    "95624/1533694"
   ]
  },
  {
   "cell_type": "code",
   "execution_count": null,
   "metadata": {},
   "outputs": [],
   "source": []
  }
 ],
 "metadata": {
  "kernelspec": {
   "display_name": "Python 3",
   "language": "python",
   "name": "python3"
  },
  "language_info": {
   "codemirror_mode": {
    "name": "ipython",
    "version": 3
   },
   "file_extension": ".py",
   "mimetype": "text/x-python",
   "name": "python",
   "nbconvert_exporter": "python",
   "pygments_lexer": "ipython3",
   "version": "3.7.7"
  }
 },
 "nbformat": 4,
 "nbformat_minor": 5
}
