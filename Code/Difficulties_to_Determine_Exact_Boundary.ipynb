{
 "cells": [
  {
   "cell_type": "code",
   "execution_count": 1,
   "metadata": {},
   "outputs": [],
   "source": [
    "import gdal\n",
    "from matplotlib import pyplot as plt\n",
    "import rasterio\n",
    "import cv2\n",
    "import numpy as np\n",
    "from skimage.util import img_as_ubyte\n",
    "    \n",
    "%matplotlib qt5"
   ]
  },
  {
   "cell_type": "markdown",
   "metadata": {},
   "source": [
    "# Importing the Kaziranga Forest Images (2008)"
   ]
  },
  {
   "cell_type": "code",
   "execution_count": 2,
   "metadata": {},
   "outputs": [],
   "source": [
    "year = gdal.Open('KNP2008.tif')\n",
    "\n",
    "band1 = year.GetRasterBand(1)\n",
    "band2 = year.GetRasterBand(2)\n",
    "band3 = year.GetRasterBand(3)\n",
    "band4 = year.GetRasterBand(4)\n",
    "band5 = year.GetRasterBand(5)\n",
    "band6 = year.GetRasterBand(6)\n",
    "\n",
    "band1_array = img_as_ubyte(band1.ReadAsArray())\n",
    "band2_array = img_as_ubyte(band2.ReadAsArray())\n",
    "band3_array = img_as_ubyte(band3.ReadAsArray())\n",
    "band4_array = img_as_ubyte(band4.ReadAsArray())\n",
    "band5_array = img_as_ubyte(band5.ReadAsArray())\n",
    "band6_array = img_as_ubyte(band6.ReadAsArray())"
   ]
  },
  {
   "cell_type": "code",
   "execution_count": 3,
   "metadata": {},
   "outputs": [],
   "source": [
    "def visualize(year):\n",
    "\n",
    "    band1 = year.GetRasterBand(1)\n",
    "    band2 = year.GetRasterBand(2)\n",
    "    band3 = year.GetRasterBand(3)\n",
    "    band4 = year.GetRasterBand(4)\n",
    "    band5 = year.GetRasterBand(5)\n",
    "    band6 = year.GetRasterBand(6)\n",
    "\n",
    "    band1_array = img_as_ubyte(band1.ReadAsArray())\n",
    "    band2_array = img_as_ubyte(band2.ReadAsArray())\n",
    "    band3_array = img_as_ubyte(band3.ReadAsArray())\n",
    "    band4_array = img_as_ubyte(band4.ReadAsArray())\n",
    "    band5_array = img_as_ubyte(band5.ReadAsArray())\n",
    "    band6_array = img_as_ubyte(band6.ReadAsArray())\n",
    "    \n",
    "    fig,ax = plt.subplots(2,3)\n",
    "    fig.suptitle('Kaziranga Forest Region(2008)', fontsize = 20)\n",
    "    ax[0][0].imshow(band1_array, cmap = plt.cm.gray)\n",
    "    ax[0][0].axis('off')\n",
    "    ax[0][0].title.set_text('Blue')\n",
    "    ax[0][1].imshow(band2_array, cmap = plt.cm.gray)\n",
    "    ax[0][1].axis('off')\n",
    "    ax[0][1].title.set_text('Green')\n",
    "    ax[0][2].imshow(band3_array, cmap = plt.cm.gray)\n",
    "    ax[0][2].axis('off')\n",
    "    ax[0][2].title.set_text('Red')\n",
    "    ax[1][0].imshow(band4_array, cmap = plt.cm.gray)\n",
    "    ax[1][0].axis('off')\n",
    "    ax[1][0].title.set_text('NIR')\n",
    "    ax[1][1].imshow(band5_array, cmap = plt.cm.gray)\n",
    "    ax[1][1].axis('off')\n",
    "    ax[1][1].title.set_text('SWIR1')\n",
    "    ax[1][2].imshow(band6_array, cmap = plt.cm.gray)\n",
    "    ax[1][2].axis('off')\n",
    "    ax[1][2].title.set_text('SWIR2')\n",
    "    \n",
    "    \n",
    "    plt.show()"
   ]
  },
  {
   "cell_type": "code",
   "execution_count": 11,
   "metadata": {},
   "outputs": [],
   "source": [
    "visualize(year)"
   ]
  },
  {
   "cell_type": "markdown",
   "metadata": {},
   "source": [
    "#### False colored combined image"
   ]
  },
  {
   "cell_type": "code",
   "execution_count": 8,
   "metadata": {},
   "outputs": [],
   "source": [
    "image = np.zeros((band1_array.shape[0],band1_array.shape[1],3))\n",
    "image[:,:,0] = band6_array\n",
    "image[:,:,1] = band4_array\n",
    "image[:,:,2] = band2_array\n",
    "\n",
    "plt.imshow(image.astype('int'))\n",
    "plt.axis('off')\n",
    "plt.show()"
   ]
  },
  {
   "cell_type": "markdown",
   "metadata": {},
   "source": [
    "#### Canny Edge "
   ]
  },
  {
   "cell_type": "code",
   "execution_count": 16,
   "metadata": {},
   "outputs": [],
   "source": [
    "import cv2\n"
   ]
  },
  {
   "cell_type": "code",
   "execution_count": 43,
   "metadata": {},
   "outputs": [],
   "source": [
    "edges1 = cv2.Canny(band2_array,150,200)\n",
    "edges2 = cv2.Canny(band5_array,100,200)"
   ]
  },
  {
   "cell_type": "code",
   "execution_count": 96,
   "metadata": {},
   "outputs": [],
   "source": [
    "plt.imshow(edges2, cmap = 'gray')\n",
    "plt.axis('off')\n",
    "plt.show()"
   ]
  },
  {
   "cell_type": "markdown",
   "metadata": {},
   "source": [
    "#### Region 1 analysis "
   ]
  },
  {
   "cell_type": "code",
   "execution_count": 52,
   "metadata": {},
   "outputs": [],
   "source": [
    "# Color image\n",
    "reg1 = image[234:551,771:1140,:]\n",
    "plt.imshow(reg1.astype('int'))\n",
    "plt.axis('off')\n",
    "plt.show()"
   ]
  },
  {
   "cell_type": "code",
   "execution_count": 71,
   "metadata": {},
   "outputs": [],
   "source": [
    "# Canny Edge\n",
    "reg1_canny = cv2.Canny(band5_array[234:551,771:1140],100,200)\n",
    "plt.imshow(reg1_canny, cmap = 'gray')\n",
    "plt.axis('off')\n",
    "plt.show()"
   ]
  },
  {
   "cell_type": "code",
   "execution_count": 55,
   "metadata": {},
   "outputs": [],
   "source": [
    "# Robert Edge\n",
    "kernelx = np.array([[1,0],[0,-1]])\n",
    "kernely = np.array([[0,1],[-1,0]])\n",
    "\n",
    "reg1_robertx = cv2.filter2D(band5_array[234:551,771:1140],-1,kernelx)\n",
    "reg1_roberty = cv2.filter2D(band5_array[234:551,771:1140],-1,kernely)\n",
    "\n",
    "reg1_robert = reg1_robertx+reg1_roberty\n",
    "\n",
    "plt.imshow(reg1_robert, cmap = 'gray')\n",
    "plt.axis('off')\n",
    "plt.show()"
   ]
  },
  {
   "cell_type": "code",
   "execution_count": 87,
   "metadata": {},
   "outputs": [],
   "source": [
    "# Sobel Edge\n",
    "reg1_sobelx = cv2.Sobel(band5_array[234:551,771:1140].astype('uint8'),cv2.CV_8U,0,1,ksize=1)\n",
    "reg1_sobely = cv2.Sobel(band5_array[234:551,771:1140].astype('uint8'),cv2.CV_8U,1,0,ksize=1)\n",
    "reg1_sobel = reg1_sobelx+reg1_sobely\n",
    "\n",
    "plt.imshow(reg1_sobely, cmap = 'gray')\n",
    "plt.axis('off')\n",
    "plt.show()"
   ]
  },
  {
   "cell_type": "code",
   "execution_count": 70,
   "metadata": {},
   "outputs": [],
   "source": [
    "# Sobel Edge with 64F\n",
    "sobelx64f = cv2.Sobel(band5_array[234:551,771:1140].astype('uint8'),cv2.CV_64F,1,0,ksize=1)\n",
    "abs_sobel64f = np.absolute(sobelx64f)\n",
    "sobel_8u = np.uint8(abs_sobel64f)\n",
    "\n",
    "plt.imshow(sobel_8u, cmap = 'gray')\n",
    "plt.axis('off')\n",
    "plt.show()"
   ]
  },
  {
   "cell_type": "markdown",
   "metadata": {},
   "source": [
    "#### Region 2 analysis "
   ]
  },
  {
   "cell_type": "code",
   "execution_count": 91,
   "metadata": {},
   "outputs": [],
   "source": [
    "# Color image\n",
    "reg1 = image[100:551,937:1440,:]\n",
    "plt.imshow(reg1.astype('int'))\n",
    "plt.axis('off')\n",
    "plt.show()"
   ]
  },
  {
   "cell_type": "code",
   "execution_count": 92,
   "metadata": {},
   "outputs": [],
   "source": [
    "# Canny Edge\n",
    "reg1_canny = cv2.Canny(band5_array[100:551,937:1440],100,200)\n",
    "plt.imshow(reg1_canny, cmap = 'gray')\n",
    "plt.axis('off')\n",
    "plt.show()"
   ]
  },
  {
   "cell_type": "code",
   "execution_count": 93,
   "metadata": {},
   "outputs": [],
   "source": [
    "# Robert Edge\n",
    "kernelx = np.array([[1,0],[0,-1]])\n",
    "kernely = np.array([[0,1],[-1,0]])\n",
    "\n",
    "reg1_robertx = cv2.filter2D(band5_array[100:551,937:1440],-1,kernelx)\n",
    "reg1_roberty = cv2.filter2D(band5_array[100:551,937:1440],-1,kernely)\n",
    "\n",
    "reg1_robert = reg1_robertx+reg1_roberty\n",
    "\n",
    "plt.imshow(reg1_robert, cmap = 'gray')\n",
    "plt.axis('off')\n",
    "plt.show()"
   ]
  },
  {
   "cell_type": "code",
   "execution_count": 94,
   "metadata": {},
   "outputs": [],
   "source": [
    "# Sobel Edge\n",
    "reg1_sobelx = cv2.Sobel(band5_array[100:551,937:1440].astype('uint8'),cv2.CV_8U,0,1,ksize=1)\n",
    "reg1_sobely = cv2.Sobel(band5_array[100:551,937:1440].astype('uint8'),cv2.CV_8U,1,0,ksize=1)\n",
    "reg1_sobel = reg1_sobelx+reg1_sobely\n",
    "\n",
    "plt.imshow(reg1_sobely, cmap = 'gray')\n",
    "plt.axis('off')\n",
    "plt.show()"
   ]
  },
  {
   "cell_type": "code",
   "execution_count": 95,
   "metadata": {},
   "outputs": [],
   "source": [
    "# Sobel Edge with 64F\n",
    "sobelx64f = cv2.Sobel(band5_array[100:551,937:1440].astype('uint8'),cv2.CV_64F,1,0,ksize=3)\n",
    "abs_sobel64f = np.absolute(sobelx64f)\n",
    "sobel_8u = np.uint8(abs_sobel64f)\n",
    "\n",
    "plt.imshow(sobel_8u, cmap = 'gray')\n",
    "plt.axis('off')\n",
    "plt.show()"
   ]
  },
  {
   "cell_type": "markdown",
   "metadata": {},
   "source": [
    "#### Region 3 analysis\n"
   ]
  },
  {
   "cell_type": "code",
   "execution_count": 104,
   "metadata": {},
   "outputs": [],
   "source": [
    "# Color image\n",
    "reg1 = image[200:551,1440:,:]\n",
    "plt.imshow(reg1.astype('int'))\n",
    "plt.axis('off')\n",
    "plt.show()"
   ]
  },
  {
   "cell_type": "code",
   "execution_count": 105,
   "metadata": {},
   "outputs": [],
   "source": [
    "# Canny Edge\n",
    "reg1_canny = cv2.Canny(band5_array[200:551,1440:],100,200)\n",
    "plt.imshow(reg1_canny, cmap = 'gray')\n",
    "plt.axis('off')\n",
    "plt.show()"
   ]
  },
  {
   "cell_type": "code",
   "execution_count": 106,
   "metadata": {},
   "outputs": [],
   "source": [
    "# Robert Edge\n",
    "kernelx = np.array([[1,0],[0,-1]])\n",
    "kernely = np.array([[0,1],[-1,0]])\n",
    "\n",
    "reg1_robertx = cv2.filter2D(band5_array[200:551,1440:],-1,kernelx)\n",
    "reg1_roberty = cv2.filter2D(band5_array[200:551,1440:],-1,kernely)\n",
    "\n",
    "reg1_robert = reg1_robertx+reg1_roberty\n",
    "\n",
    "plt.imshow(reg1_robert, cmap = 'gray')\n",
    "plt.axis('off')\n",
    "plt.show()"
   ]
  },
  {
   "cell_type": "code",
   "execution_count": 107,
   "metadata": {},
   "outputs": [],
   "source": [
    "# Sobel Edge with 64F\n",
    "sobelx64f = cv2.Sobel(band5_array[200:551,1440:].astype('uint8'),cv2.CV_64F,1,0,ksize=3)\n",
    "abs_sobel64f = np.absolute(sobelx64f)\n",
    "sobel_8u = np.uint8(abs_sobel64f)\n",
    "\n",
    "plt.imshow(sobel_8u, cmap = 'gray')\n",
    "plt.axis('off')\n",
    "plt.show()"
   ]
  },
  {
   "cell_type": "markdown",
   "metadata": {},
   "source": [
    "#### Actual Boundary "
   ]
  },
  {
   "cell_type": "code",
   "execution_count": 110,
   "metadata": {},
   "outputs": [],
   "source": [
    "import os, skimage\n",
    "from skimage import io\n",
    "ann = io.imread('KNP2008_ann.png')\n",
    "\n",
    "plt.imshow(ann)\n",
    "plt.axis('off')\n",
    "plt.show()"
   ]
  },
  {
   "cell_type": "code",
   "execution_count": 120,
   "metadata": {},
   "outputs": [],
   "source": [
    "# Region 1\n",
    "region1_ann = ann[234:551,771:1140,:]\n",
    "\n",
    "plt.imshow(region1_ann)\n",
    "plt.axis('off')\n",
    "plt.show()"
   ]
  },
  {
   "cell_type": "code",
   "execution_count": 121,
   "metadata": {},
   "outputs": [],
   "source": [
    "# Region 2\n",
    "region2_ann = ann[100:551,937:1440,:]\n",
    "plt.imshow(region2_ann)\n",
    "plt.axis('off')\n",
    "plt.show()"
   ]
  },
  {
   "cell_type": "code",
   "execution_count": 122,
   "metadata": {},
   "outputs": [],
   "source": [
    "# Region 3\n",
    "region3_ann = ann[200:551,1440:,:]\n",
    "plt.imshow(region3_ann)\n",
    "plt.axis('off')\n",
    "plt.show()"
   ]
  },
  {
   "cell_type": "markdown",
   "metadata": {},
   "source": [
    "# Phase Congruency"
   ]
  },
  {
   "cell_type": "code",
   "execution_count": 127,
   "metadata": {},
   "outputs": [],
   "source": [
    "from phasepack import phasecong,phasecongmono\n",
    "from skimage.color import rgb2gray"
   ]
  },
  {
   "cell_type": "code",
   "execution_count": 126,
   "metadata": {},
   "outputs": [],
   "source": [
    "reg1 = image[234:551,771:1140,:]\n",
    "plt.imshow(reg1.astype('int'))\n",
    "plt.axis('off')\n",
    "plt.show()"
   ]
  },
  {
   "cell_type": "code",
   "execution_count": 128,
   "metadata": {},
   "outputs": [],
   "source": [
    "reg1_phcg = rgb2gray(reg1)"
   ]
  },
  {
   "cell_type": "code",
   "execution_count": 153,
   "metadata": {},
   "outputs": [],
   "source": [
    "plt.imshow(reg1_phcg.astype('int'))\n",
    "plt.axis('off')\n",
    "plt.show()"
   ]
  },
  {
   "cell_type": "code",
   "execution_count": 135,
   "metadata": {},
   "outputs": [],
   "source": [
    "reg1_phcg_float = reg1_phcg.astype('float64')\n",
    "\n",
    "(pc, ori, ft, T) = phasecongmono(reg1_phcg_float, nscale=4, minWaveLength=3, mult=2,sigmaOnf=0.55, k=3, cutOff=0.5, g=10,deviationGain=1.5, noiseMethod=-1)\n"
   ]
  },
  {
   "cell_type": "code",
   "execution_count": 157,
   "metadata": {},
   "outputs": [],
   "source": [
    "plt.imshow(pc, cmap='gray')\n",
    "plt.axis('off')\n",
    "plt.show()"
   ]
  },
  {
   "cell_type": "code",
   "execution_count": 142,
   "metadata": {},
   "outputs": [],
   "source": [
    "reg1_phcg_float = reg1_phcg.astype('float64')\n",
    "\n",
    "(M,m,a,b,c,d,e) = phasecong(reg1_phcg_float)\n"
   ]
  },
  {
   "cell_type": "code",
   "execution_count": 169,
   "metadata": {},
   "outputs": [],
   "source": [
    "plt.imshow(M, cmap='gray')\n",
    "plt.axis('off')\n",
    "plt.show()"
   ]
  },
  {
   "cell_type": "code",
   "execution_count": 155,
   "metadata": {},
   "outputs": [],
   "source": [
    "from skimage.filters import apply_hysteresis_threshold"
   ]
  },
  {
   "cell_type": "code",
   "execution_count": 171,
   "metadata": {},
   "outputs": [],
   "source": [
    "edges_phcg = apply_hysteresis_threshold(pc,0.1,0.15)"
   ]
  },
  {
   "cell_type": "code",
   "execution_count": 172,
   "metadata": {},
   "outputs": [],
   "source": [
    "plt.imshow(edges_phcg, cmap='gray')\n",
    "plt.axis('off')\n",
    "plt.show()"
   ]
  },
  {
   "cell_type": "markdown",
   "metadata": {},
   "source": [
    "#### Phase Congruency Regional Analysis "
   ]
  },
  {
   "cell_type": "code",
   "execution_count": 175,
   "metadata": {},
   "outputs": [],
   "source": [
    "reg1 = image[234:551,771:1140,:]\n",
    "reg2 = image[100:551,937:1440,:]\n",
    "reg3 = image[200:551,1440:,:]\n",
    "\n",
    "reg1_phcg_g = rgb2gray(reg1)\n",
    "reg2_phcg_g = rgb2gray(reg2)\n",
    "reg3_phcg_g = rgb2gray(reg3)"
   ]
  },
  {
   "cell_type": "code",
   "execution_count": 176,
   "metadata": {},
   "outputs": [],
   "source": [
    "reg1_phcg_float = reg1_phcg_g.astype('float64')\n",
    "reg2_phcg_float = reg2_phcg_g.astype('float64')\n",
    "reg3_phcg_float = reg3_phcg_g.astype('float64')"
   ]
  },
  {
   "cell_type": "code",
   "execution_count": 187,
   "metadata": {},
   "outputs": [],
   "source": [
    "(pc, ori, ft, T) = phasecongmono(reg3_phcg_float, nscale=4, minWaveLength=3, mult=2,sigmaOnf=0.55, k=3, cutOff=0.5, g=10,deviationGain=1.5, noiseMethod=-1)"
   ]
  },
  {
   "cell_type": "code",
   "execution_count": 188,
   "metadata": {},
   "outputs": [],
   "source": [
    "plt.imshow(pc, cmap='gray')\n",
    "plt.axis('off')\n",
    "plt.show()"
   ]
  },
  {
   "cell_type": "code",
   "execution_count": 189,
   "metadata": {},
   "outputs": [],
   "source": [
    "edges_phcg = apply_hysteresis_threshold(pc,0.1,0.2)\n",
    "plt.imshow(edges_phcg, cmap='gray')\n",
    "plt.axis('off')\n",
    "plt.show()"
   ]
  },
  {
   "cell_type": "code",
   "execution_count": null,
   "metadata": {},
   "outputs": [],
   "source": []
  },
  {
   "cell_type": "code",
   "execution_count": null,
   "metadata": {},
   "outputs": [],
   "source": []
  }
 ],
 "metadata": {
  "kernelspec": {
   "display_name": "Python 3",
   "language": "python",
   "name": "python3"
  },
  "language_info": {
   "codemirror_mode": {
    "name": "ipython",
    "version": 3
   },
   "file_extension": ".py",
   "mimetype": "text/x-python",
   "name": "python",
   "nbconvert_exporter": "python",
   "pygments_lexer": "ipython3",
   "version": "3.7.6"
  }
 },
 "nbformat": 4,
 "nbformat_minor": 4
}
